{
  "nbformat": 4,
  "nbformat_minor": 0,
  "metadata": {
    "kernelspec": {
      "display_name": "Python 3",
      "language": "python",
      "name": "python3"
    },
    "language_info": {
      "codemirror_mode": {
        "name": "ipython",
        "version": 3
      },
      "file_extension": ".py",
      "mimetype": "text/x-python",
      "name": "python",
      "nbconvert_exporter": "python",
      "pygments_lexer": "ipython3",
      "version": "3.7.6"
    },
    "colab": {
      "name": "HW Day 2 python and numpy.ipynb",
      "provenance": [],
      "collapsed_sections": []
    }
  },
  "cells": [
    {
      "cell_type": "markdown",
      "metadata": {
        "id": "6UO27H652XnH"
      },
      "source": [
        "# Homework due January 26 - Python and Numpy Introduction\n",
        "\n",
        "There are 6 questions in this assignment and all questions are weighted the same."
      ]
    },
    {
      "cell_type": "markdown",
      "metadata": {
        "id": "P_4jiFco2XnP"
      },
      "source": [
        "### Question 0: Example\n",
        "\n",
        "This is a sample question and solution. (There is no need for you to do anything here except read.)\n",
        "\n",
        "Task: Create a list of multiples of 5 from 0 to 100 using two different methods: a for loop with append and a list comprehension statement."
      ]
    },
    {
      "cell_type": "code",
      "metadata": {
        "id": "bTkJTjGp2XnQ"
      },
      "source": [
        "##Sample Question Cell\n",
        "\n",
        "mult5=[]\n",
        "## Add elements to this list to get all multiples of 5 from 0 to 100 \n",
        "## using a for loop and append statements.\n",
        "???\n",
        "\n",
        "## Use list comprehension to create the same list. \n",
        "mult_5= ???\n",
        "\n",
        "## Then check if both objects are the same \n",
        "mult5 ???   mult_5"
      ],
      "execution_count": null,
      "outputs": []
    },
    {
      "cell_type": "code",
      "metadata": {
        "colab": {
          "base_uri": "https://localhost:8080/"
        },
        "id": "Xns1VKQl2XnR",
        "outputId": "fb2478d0-4450-4e57-a0d4-2fbd912613d5"
      },
      "source": [
        "##Sample Answer Cell\n",
        "\n",
        "mult5=[]\n",
        "## Add elements to this list to get all multiples of 5 from 0 to 100 \n",
        "## using a for loop and append statements.\n",
        "for i in range(21):\n",
        "    mult5.append(5*i)\n",
        "print(mult5)\n",
        "\n",
        "## Use list comprehension to create the same list. \n",
        "mult_5= [5*i for i in range(21)]\n",
        "print(mult_5)\n",
        "\n",
        "## Then check if both objects are the same \n",
        "mult5==mult_5"
      ],
      "execution_count": null,
      "outputs": [
        {
          "output_type": "stream",
          "text": [
            "[0, 5, 10, 15, 20, 25, 30, 35, 40, 45, 50, 55, 60, 65, 70, 75, 80, 85, 90, 95, 100]\n",
            "[0, 5, 10, 15, 20, 25, 30, 35, 40, 45, 50, 55, 60, 65, 70, 75, 80, 85, 90, 95, 100]\n"
          ],
          "name": "stdout"
        },
        {
          "output_type": "execute_result",
          "data": {
            "text/plain": [
              "True"
            ]
          },
          "metadata": {
            "tags": []
          },
          "execution_count": 1
        }
      ]
    },
    {
      "cell_type": "markdown",
      "metadata": {
        "id": "ZivLKpDa2XnR"
      },
      "source": [
        "### Question 1: Python Functions\n",
        "    \n",
        "Task: \n",
        "1. Write a Python function that will read in a list of numbers and return the sum of every other number in the list starting with the first entry. Any variables your function needs should be defined inside your function.\n",
        "2. Apply your function to the test_list provided."
      ]
    },
    {
      "cell_type": "code",
      "metadata": {
        "colab": {
          "base_uri": "https://localhost:8080/"
        },
        "id": "Bmo0KeU32XnS",
        "outputId": "63f15a2c-d139-4acf-b2c7-3429f9e7e2b5"
      },
      "source": [
        "## Write your function here.\n",
        "def add_every_other(list):\n",
        "  x = 0\n",
        "  for i in range(len(list)):\n",
        "    if(i%2 == 0):\n",
        "      x += list[i]\n",
        "  print(x)\n",
        "\n",
        "## Apply your function and show that it works. \n",
        "test_list=[2,9,5,4,1,3,6]\n",
        "\n",
        "add_every_other(test_list)"
      ],
      "execution_count": null,
      "outputs": [
        {
          "output_type": "stream",
          "text": [
            "14\n"
          ],
          "name": "stdout"
        }
      ]
    },
    {
      "cell_type": "markdown",
      "metadata": {
        "id": "wFQb8fuL2XnS"
      },
      "source": [
        "### Question 2: Lists\n",
        "\n",
        "Tasks:\n",
        "1. Create a new list which contains all the numbers in old_list which are congruent to 0 mod 3 using a list comprehension.\n",
        "2. Use appropriate slicing (that is, use :) to print the last three numbers of the original list.\n",
        "3. Use appropriate slicing to print the middle five numbers of the original list. \n",
        "4. Print all the numbers from old_list in reverse order.\n"
      ]
    },
    {
      "cell_type": "code",
      "metadata": {
        "colab": {
          "base_uri": "https://localhost:8080/"
        },
        "id": "arcPyXMw2XnT",
        "outputId": "301e8bf1-1fe4-449c-ebcd-146a0924b54f"
      },
      "source": [
        "## The starting list.\n",
        "old_list = [5,9,4,18,22,2,31,42,98,45,29]\n",
        "## create new list here of numbers in old_list which are congruent to 0 mod 3.\n",
        "new_list=[]\n",
        "for i in range(len(old_list)):\n",
        "  if old_list[i]%3 == 0:\n",
        "    new_list.append(old_list[i])\n",
        "\n",
        "## print last three\n",
        "print(old_list[-3:])\n",
        "\n",
        "## print middle five\n",
        "mid = int(len(old_list)/2)\n",
        "print(old_list[mid-2:mid+3])\n",
        "\n",
        "## print in reverse order\n",
        "print(old_list[::-1])"
      ],
      "execution_count": null,
      "outputs": [
        {
          "output_type": "stream",
          "text": [
            "[98, 45, 29]\n",
            "[18, 22, 2, 31, 42]\n",
            "[29, 45, 98, 42, 31, 2, 22, 18, 4, 9, 5]\n"
          ],
          "name": "stdout"
        }
      ]
    },
    {
      "cell_type": "markdown",
      "metadata": {
        "id": "Jg2vfp1E2XnT"
      },
      "source": [
        "### Question 3: Dictionaries\n",
        "    \n",
        "Tasks: \n",
        "1. Create a birthday dictionary with 5 people and their birthdays. Enter names and dates as strings. Neither the people nor the birthdays need to be real. \n",
        "1. Add a sixth person and their birthday to the dictionary.\n",
        "1. Print all names in the dictionary.\n",
        "1. Print all birthdays from the dictionary.\n",
        "1. Use the format command to pick one entry from your dictionary and write a sentence about that person and their birthday.\n"
      ]
    },
    {
      "cell_type": "code",
      "metadata": {
        "id": "nXhn3dwZ2XnU",
        "colab": {
          "base_uri": "https://localhost:8080/"
        },
        "outputId": "575150eb-2b67-431f-c2a8-6b8477b92de8"
      },
      "source": [
        "## Create a dictionary with 5 names.\n",
        "birthday={\n",
        "    \"Maggie\":\"July 9 2000\",\n",
        "    \"Lizzie\":\"November 18 2001\",\n",
        "    \"Abby\":\"June 11 2003\",\n",
        "    \"Alex\":\"June 18 2004\",\n",
        "    \"Kaecey\":\"June 22 1977\"\n",
        "}\n",
        "\n",
        "## Add a 6th name to the dictionary.\n",
        "birthday[\"Ben\"] = \"May 20 1975\"\n",
        "\n",
        "## Print all names in the dictionary.\n",
        "print(birthday.keys())\n",
        "\n",
        "## Print all birthdays in the dictionary.\n",
        "print(birthday.values())\n",
        "\n",
        "## Use format command (using {} for variables in your dictionary) to write a sentence about that person and their birthday.\n",
        "print(\"The birthday of Lizzie is {}\".format(birthday[\"Lizzie\"]))"
      ],
      "execution_count": null,
      "outputs": [
        {
          "output_type": "stream",
          "text": [
            "dict_keys(['Maggie', 'Lizzie', 'Abby', 'Alex', 'Kaecey', 'Ben'])\n",
            "dict_values(['July 9 2000', 'November 18 2001', 'June 11 2003', 'June 18 2004', 'June 22 1977', 'May 20 1975'])\n",
            "The birthday of Lizzie is November 18 2001\n"
          ],
          "name": "stdout"
        }
      ]
    },
    {
      "cell_type": "markdown",
      "metadata": {
        "id": "w2V9VbDN2XnU"
      },
      "source": [
        "### Question 4 - Creating Vectors and Matrices\n",
        "\n",
        "In the cell below please create the vectors and matrices as described in the comments."
      ]
    },
    {
      "cell_type": "code",
      "metadata": {
        "id": "JEjmAICc2XnV",
        "colab": {
          "base_uri": "https://localhost:8080/"
        },
        "outputId": "eb899c4c-8091-42ab-adb6-7dd8ef0d0c4d"
      },
      "source": [
        "import numpy as np\n",
        "original_matrix = np.array([[1,2,3],[4,5,6],[7,8,9]])\n",
        "\n",
        "# Create a column vector that contains all of the elements in the original matrix in order\n",
        "col_vec1= np.array(original_matrix)\n",
        "col_vec1 = col_vec1.reshape(col_vec1.size,1)\n",
        "print(col_vec1)\n",
        "print()\n",
        "\n",
        "# Create a 2x2 submatrix of original_matrix.\n",
        "sub_matrix = original_matrix[0:2,1:3] \n",
        "print(sub_matrix)\n",
        "print()\n",
        "\n",
        "# Find a the scalar that is at the center of the original_matrix\n",
        "scalar = original_matrix[3//2, 3//2]\n",
        "print(scalar)\n",
        "print()\n",
        "\n",
        "# Find the matrix product between the original_matrix and the first three elements of \n",
        "# your column vector\n",
        "mat_prod = np.dot(original_matrix, col_vec1[0:3])\n",
        "print(mat_prod)\n",
        "print()\n",
        "\n",
        "# use BROADCASTING to multiply each column in original_matrix by the first three elements of\n",
        "# your column vector\n",
        "mat_brod = original_matrix*col_vec1[0:3]\n",
        "print(mat_brod)"
      ],
      "execution_count": null,
      "outputs": [
        {
          "output_type": "stream",
          "text": [
            "[[1]\n",
            " [2]\n",
            " [3]\n",
            " [4]\n",
            " [5]\n",
            " [6]\n",
            " [7]\n",
            " [8]\n",
            " [9]]\n",
            "\n",
            "[[2 3]\n",
            " [5 6]]\n",
            "\n",
            "5\n",
            "\n",
            "[[14]\n",
            " [32]\n",
            " [50]]\n",
            "\n",
            "[[ 1  2  3]\n",
            " [ 8 10 12]\n",
            " [21 24 27]]\n"
          ],
          "name": "stdout"
        }
      ]
    },
    {
      "cell_type": "markdown",
      "metadata": {
        "id": "QCcFBuIY2XnV"
      },
      "source": [
        "### Question 5 - Matrix Operations"
      ]
    },
    {
      "cell_type": "code",
      "metadata": {
        "id": "_z5UeOCW2XnW"
      },
      "source": [
        "# Given the following definitions\n",
        "\n",
        "A = np.array([[1,2,3],[4,5,6],[7,8,9]])\n",
        "\n",
        "b = np.array([[2],[4],[6]])\n"
      ],
      "execution_count": null,
      "outputs": []
    },
    {
      "cell_type": "code",
      "metadata": {
        "id": "zB2f1gPE2XnW",
        "colab": {
          "base_uri": "https://localhost:8080/"
        },
        "outputId": "8b7fcb39-1af5-4df5-82ba-c191691b88a5"
      },
      "source": [
        "import numpy as np\n",
        "# Construct two matrices, A and B, where np.matmul(A,B) performs regular matrix multiplication.\n",
        "A = np.array([[1,2,3],[4,5,6],[7,8,9]])\n",
        "b = np.array([[2],[4],[6]])\n",
        "print('A*b: \\n', np.matmul(A,b))\n",
        "print()\n",
        "\n",
        "# Construct two matrices, A and B, where np.matmul(A,B) will not work and explain why it doesn't work.\n",
        "A = np.array([[2],[4],[6]])\n",
        "B = np.array([[1,2,3],[4,5,6],[7,8,9]])\n",
        "print('Dimensions of A: ', A.shape)\n",
        "print('Dimensions of B: ', B.shape)\n",
        "#print(np.matmul(A,B))\n",
        "# Matrix mult requires c1 to equal r2. Since the number of columns of A doesn't match the\n",
        "# number of rows of B, matrix mult won't work. \n",
        "print()\n",
        "\n",
        "# Construct two matrices, A and B, where np.matmul(A,B) uses broadcasting and explain how the broadcasting works.\n",
        "C = np.array([[1,2,3],[4,5,6],[7,8,9]])\n",
        "D = np.array([[1,2,3]])\n",
        "\n",
        "# Give three different examples exploring the different uses of np.dot().\n",
        "# 1) vector dot product\n",
        "# 2) matrix multiplication\n",
        "# 3) broadcasting \n",
        "\n",
        "# 1)\n",
        "X = np.array([1,2,3])\n",
        "print('Vector dot product: ', np.dot(X, X))\n",
        "print()\n",
        "\n",
        "# 2)\n",
        "Y = np.array([[1,2],[3,4]])\n",
        "Z = np.array([[1],[2]])\n",
        "print('Matrix mult: \\n', np.dot(Y,Z))\n",
        "print()\n",
        "\n",
        "# 3)\n",
        "M = np.array([[1,2],[3,4]])\n",
        "N = np.array([1,2])\n",
        "print('Broadcasting: \\n', np.dot(M,N))\n",
        "print()\n",
        "\n",
        "# Explore the axis command to find the sum of each of the columns and rows for matrix A.\n",
        "print('Matix A: \\n', A)\n",
        "print('Row sum ', np.sum(A, axis = 0))\n",
        "print('Column sum ', np.sum(A, axis = 1))\n",
        "print()\n",
        "\n",
        "# Explain what the following command does and what the shapes of all the sub elements are.\n",
        "# Check the shape of C and explain why it makes sense. \n",
        "A = np.array([[1,2,3],[4,5,6],[7,8,9]])\n",
        "b = np.array([[2],[4],[6]])\n",
        "C = np.dot( np.add( np.matmul(A,b),b ).T, b )\n",
        "t = np.add(np.matmul(A,b), b).T\n",
        "print('A: \\n', A, '\\n')\n",
        "print('b: \\n', b, '\\n')\n",
        "print('np.matmul(A,b) = A*b = \\n')\n",
        "print(np.matmul(A,b), '\\n')\n",
        "print('Add b to the matrix above \\n')\n",
        "print(np.add(np.matmul(A,b),b), '\\n')\n",
        "print('Transpose the resulted matrix: \\n')\n",
        "print(np.add(np.matmul(A,b), b).T, '\\n')\n",
        "print('Dotting the resulted matrix with by: \\n')\n",
        "print(np.dot(np.add(np.matmul(A,b),b).T, b), '\\n')\n",
        "print('Shape of the final matrix, C: ', C.shape)\n",
        "print('The shape of the matrix until transposed: ', t.shape)\n",
        "print('The shape of b is: ', b.shape)\n",
        "print('The shapes of the arrays are valid for matrix multiplication')\n",
        "\n",
        "\n"
      ],
      "execution_count": null,
      "outputs": [
        {
          "output_type": "stream",
          "text": [
            "A*b: \n",
            " [[ 28]\n",
            " [ 64]\n",
            " [100]]\n",
            "\n",
            "Dimensions of A:  (3, 1)\n",
            "Dimensions of B:  (3, 3)\n",
            "\n",
            "Vector dot product:  14\n",
            "\n",
            "Matrix mult: \n",
            " [[ 5]\n",
            " [11]]\n",
            "\n",
            "Broadcasting: \n",
            " [ 5 11]\n",
            "\n",
            "Matix A: \n",
            " [[2]\n",
            " [4]\n",
            " [6]]\n",
            "Row sum  [12]\n",
            "Column sum  [2 4 6]\n",
            "\n",
            "A: \n",
            " [[1 2 3]\n",
            " [4 5 6]\n",
            " [7 8 9]] \n",
            "\n",
            "b: \n",
            " [[2]\n",
            " [4]\n",
            " [6]] \n",
            "\n",
            "np.matmul(A,b) = A*b = \n",
            "\n",
            "[[ 28]\n",
            " [ 64]\n",
            " [100]] \n",
            "\n",
            "Add b to the matrix above \n",
            "\n",
            "[[ 30]\n",
            " [ 68]\n",
            " [106]] \n",
            "\n",
            "Transpose the resulted matrix: \n",
            "\n",
            "[[ 30  68 106]] \n",
            "\n",
            "Dotting the resulted matrix with by: \n",
            "\n",
            "[[968]] \n",
            "\n",
            "Shape of the final matrix, C:  (1, 1)\n",
            "The shape of the matrix until transposed:  (1, 3)\n",
            "The shape of b is:  (3, 1)\n",
            "The shapes of the arrays are valid for matrix multiplication\n"
          ],
          "name": "stdout"
        }
      ]
    },
    {
      "cell_type": "markdown",
      "metadata": {
        "id": "UK2LE8JU2XnX"
      },
      "source": [
        "### Question 6 - Explore numpy!\n",
        "\n",
        "Below are a few more useful commands. Use the ? help to see if you can figure out what the commands do. Create a numpy object with each of these commands and explain what input is necessary and what output it produces."
      ]
    },
    {
      "cell_type": "code",
      "metadata": {
        "id": "xm9-MMxf2XnX"
      },
      "source": [
        "np.empty?"
      ],
      "execution_count": null,
      "outputs": []
    },
    {
      "cell_type": "code",
      "metadata": {
        "id": "h6P5nkeo2XnY"
      },
      "source": [
        "np.zeros?"
      ],
      "execution_count": null,
      "outputs": []
    },
    {
      "cell_type": "code",
      "metadata": {
        "id": "4qUL6XPx2XnY"
      },
      "source": [
        "np.zeros_like?"
      ],
      "execution_count": null,
      "outputs": []
    },
    {
      "cell_type": "code",
      "metadata": {
        "id": "PEToVZMu2XnY"
      },
      "source": [
        "np.diag?"
      ],
      "execution_count": null,
      "outputs": []
    },
    {
      "cell_type": "code",
      "metadata": {
        "id": "_XCSaWRt2XnZ"
      },
      "source": [
        "np.eye?"
      ],
      "execution_count": null,
      "outputs": []
    },
    {
      "cell_type": "code",
      "metadata": {
        "id": "A1kdCOqD2XnZ"
      },
      "source": [
        ""
      ],
      "execution_count": null,
      "outputs": []
    }
  ]
}