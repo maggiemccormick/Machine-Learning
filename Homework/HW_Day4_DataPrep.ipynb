{
 "cells": [
  {
   "cell_type": "markdown",
   "metadata": {},
   "source": [
    "# Homework due February 2 - Data Exploration and Preprocessing"
   ]
  },
  {
   "cell_type": "code",
   "execution_count": 2,
   "metadata": {},
   "outputs": [],
   "source": [
    "# Python ≥3.5 is required\n",
    "import sys\n",
    "assert sys.version_info >= (3, 5)\n",
    "\n",
    "# Scikit-Learn ≥0.20 is required\n",
    "import sklearn\n",
    "assert sklearn.__version__ >= \"0.20\"\n",
    "\n",
    "# Common imports\n",
    "import numpy as np\n",
    "import pandas as pd\n",
    "\n",
    "# Start a list of useful packages\n",
    "from sklearn.model_selection import train_test_split\n",
    "from sklearn.model_selection import StratifiedShuffleSplit\n",
    "from sklearn.preprocessing import OrdinalEncoder\n",
    "from sklearn.preprocessing import OneHotEncoder\n",
    "from sklearn.pipeline import Pipeline\n",
    "from sklearn.preprocessing import StandardScaler\n",
    "from sklearn.linear_model import LinearRegression\n",
    "\n",
    "\n",
    "\n",
    "from pandas.plotting import scatter_matrix\n",
    "\n",
    "# To plot pretty figures\n",
    "%matplotlib inline\n",
    "import matplotlib as mpl\n",
    "import matplotlib.pyplot as plt\n",
    "mpl.rc('axes', labelsize=14)\n",
    "mpl.rc('xtick', labelsize=12)\n",
    "mpl.rc('ytick', labelsize=12)\n",
    "\n",
    "# Ignore useless warnings (see SciPy issue #5998)\n",
    "import warnings\n",
    "warnings.filterwarnings(action=\"ignore\", message=\"^internal gelsd\")"
   ]
  },
  {
   "cell_type": "code",
   "execution_count": 4,
   "metadata": {},
   "outputs": [],
   "source": [
    "# Load the data\n",
    "\n",
    "df = pd.read_csv(\n",
    "    filepath_or_buffer='https://archive.ics.uci.edu/ml/machine-learning-databases/iris/iris.data', \n",
    "    header=None, \n",
    "    sep=',')\n",
    "\n",
    "df.columns=['sepal_len', 'sepal_wid', 'petal_len', 'petal_wid', 'class']"
   ]
  },
  {
   "cell_type": "markdown",
   "metadata": {},
   "source": [
    "### The Data:\n",
    "\n",
    "The iris data set is well known in machine learning. It contains information about iris flowers Fisher,R.A. \"The use of multiple measurements in taxonomic problems\" Annual Eugenics, 7, Part II, 179-188 (1936); also in \"Contributions to Mathematical Statistics\" (John Wiley, NY, 1950)\n",
    "\n",
    "The columns include:\n",
    "1. sepal length in cm\n",
    "2. sepal width in cm\n",
    "3. petal length in cm\n",
    "4. petal width in cm\n",
    "5. class:\n",
    "-- Iris Setosa\n",
    "-- Iris Versicolour\n",
    "-- Iris Virginica\n"
   ]
  },
  {
   "cell_type": "markdown",
   "metadata": {},
   "source": [
    "## GOAL: \n",
    "\n",
    "Practice all of the Data Analysis and Preprocessing steps that should be a part of every new machine learning project and data set that you encounter.\n",
    "\n",
    "### For this homework you should do the following:\n",
    "\n",
    "1. Load the data (just run the cells above)\n",
    "2. Look at the data and answer the following questions:\n",
    "    * What type of data is in each column?\n",
    "    * How many entries are in our data set?\n",
    "    * What are all of the column names?\n",
    "    * What are the max, min, and mean of each column?\n",
    "    * What are the counts for each item in the class column?\n",
    "    * Are there any NaNs in the data?\n",
    "    * **Your answer should also include discussion in a Markdown cell**\n",
    "\n",
    "    \n",
    "3. Do some preliminary data visualization\n",
    "    * **You can decide which plots to show me, but you must discuss what you see in each plot using a Markdown cell**\n",
    "\n",
    "4. Split the data into a testing set and a training set\n",
    "    * **Print the .describe() results for each data set**\n",
    "    * **Talk about RANDOM vs STRATIFIED sampling in this case**\n",
    "    \n",
    "5. Explore and visualize the training data: \n",
    "    * Scatter Plots (see example code below for help) \n",
    "    * Correlations - you will need to encode the classes first.\n",
    "    * Optional - Define some interesting new attributes.\n",
    "    * Get creative if you want!\n",
    "    * **You can decide which plots/data to show me, but you must discuss what you see in each plot/calculation using a Markdown cell**\n",
    "    \n",
    "6. Prepare the data for machine learning:(Assume that we want to classify what kind of flower we have based on the other attributes.)\n",
    "    * Split the training data into Features (inputs) and Labels (outputs=flower type)\n",
    "    * Check for and solve NaNs\n",
    "    * Encode the Labels (flower names -> 0,1,2)\n",
    "    * Optional - add some new attributes to your Features\n",
    "    \n",
    "7. Feature Scaling\n",
    "    * Scale your features using StandardScalar\n",
    "    * **Print out the SIZE of your final scaled Feature array and your final encoded labels - do they look right?**\n",
    "    * **Show the top ten rows of your features and your labels**\n",
    "    \n",
    "HAND IN: A .pdf copy of your notebook and a google colab link to your code"
   ]
  },
  {
   "cell_type": "code",
   "execution_count": 5,
   "metadata": {},
   "outputs": [
    {
     "data": {
      "text/html": [
       "<div>\n",
       "<style scoped>\n",
       "    .dataframe tbody tr th:only-of-type {\n",
       "        vertical-align: middle;\n",
       "    }\n",
       "\n",
       "    .dataframe tbody tr th {\n",
       "        vertical-align: top;\n",
       "    }\n",
       "\n",
       "    .dataframe thead th {\n",
       "        text-align: right;\n",
       "    }\n",
       "</style>\n",
       "<table border=\"1\" class=\"dataframe\">\n",
       "  <thead>\n",
       "    <tr style=\"text-align: right;\">\n",
       "      <th></th>\n",
       "      <th>sepal_len</th>\n",
       "      <th>sepal_wid</th>\n",
       "      <th>petal_len</th>\n",
       "      <th>petal_wid</th>\n",
       "      <th>class</th>\n",
       "    </tr>\n",
       "  </thead>\n",
       "  <tbody>\n",
       "    <tr>\n",
       "      <th>0</th>\n",
       "      <td>5.1</td>\n",
       "      <td>3.5</td>\n",
       "      <td>1.4</td>\n",
       "      <td>0.2</td>\n",
       "      <td>Iris-setosa</td>\n",
       "    </tr>\n",
       "    <tr>\n",
       "      <th>1</th>\n",
       "      <td>4.9</td>\n",
       "      <td>3.0</td>\n",
       "      <td>1.4</td>\n",
       "      <td>0.2</td>\n",
       "      <td>Iris-setosa</td>\n",
       "    </tr>\n",
       "    <tr>\n",
       "      <th>2</th>\n",
       "      <td>4.7</td>\n",
       "      <td>3.2</td>\n",
       "      <td>1.3</td>\n",
       "      <td>0.2</td>\n",
       "      <td>Iris-setosa</td>\n",
       "    </tr>\n",
       "    <tr>\n",
       "      <th>3</th>\n",
       "      <td>4.6</td>\n",
       "      <td>3.1</td>\n",
       "      <td>1.5</td>\n",
       "      <td>0.2</td>\n",
       "      <td>Iris-setosa</td>\n",
       "    </tr>\n",
       "    <tr>\n",
       "      <th>4</th>\n",
       "      <td>5.0</td>\n",
       "      <td>3.6</td>\n",
       "      <td>1.4</td>\n",
       "      <td>0.2</td>\n",
       "      <td>Iris-setosa</td>\n",
       "    </tr>\n",
       "    <tr>\n",
       "      <th>...</th>\n",
       "      <td>...</td>\n",
       "      <td>...</td>\n",
       "      <td>...</td>\n",
       "      <td>...</td>\n",
       "      <td>...</td>\n",
       "    </tr>\n",
       "    <tr>\n",
       "      <th>145</th>\n",
       "      <td>6.7</td>\n",
       "      <td>3.0</td>\n",
       "      <td>5.2</td>\n",
       "      <td>2.3</td>\n",
       "      <td>Iris-virginica</td>\n",
       "    </tr>\n",
       "    <tr>\n",
       "      <th>146</th>\n",
       "      <td>6.3</td>\n",
       "      <td>2.5</td>\n",
       "      <td>5.0</td>\n",
       "      <td>1.9</td>\n",
       "      <td>Iris-virginica</td>\n",
       "    </tr>\n",
       "    <tr>\n",
       "      <th>147</th>\n",
       "      <td>6.5</td>\n",
       "      <td>3.0</td>\n",
       "      <td>5.2</td>\n",
       "      <td>2.0</td>\n",
       "      <td>Iris-virginica</td>\n",
       "    </tr>\n",
       "    <tr>\n",
       "      <th>148</th>\n",
       "      <td>6.2</td>\n",
       "      <td>3.4</td>\n",
       "      <td>5.4</td>\n",
       "      <td>2.3</td>\n",
       "      <td>Iris-virginica</td>\n",
       "    </tr>\n",
       "    <tr>\n",
       "      <th>149</th>\n",
       "      <td>5.9</td>\n",
       "      <td>3.0</td>\n",
       "      <td>5.1</td>\n",
       "      <td>1.8</td>\n",
       "      <td>Iris-virginica</td>\n",
       "    </tr>\n",
       "  </tbody>\n",
       "</table>\n",
       "<p>150 rows × 5 columns</p>\n",
       "</div>"
      ],
      "text/plain": [
       "     sepal_len  sepal_wid  petal_len  petal_wid           class\n",
       "0          5.1        3.5        1.4        0.2     Iris-setosa\n",
       "1          4.9        3.0        1.4        0.2     Iris-setosa\n",
       "2          4.7        3.2        1.3        0.2     Iris-setosa\n",
       "3          4.6        3.1        1.5        0.2     Iris-setosa\n",
       "4          5.0        3.6        1.4        0.2     Iris-setosa\n",
       "..         ...        ...        ...        ...             ...\n",
       "145        6.7        3.0        5.2        2.3  Iris-virginica\n",
       "146        6.3        2.5        5.0        1.9  Iris-virginica\n",
       "147        6.5        3.0        5.2        2.0  Iris-virginica\n",
       "148        6.2        3.4        5.4        2.3  Iris-virginica\n",
       "149        5.9        3.0        5.1        1.8  Iris-virginica\n",
       "\n",
       "[150 rows x 5 columns]"
      ]
     },
     "execution_count": 5,
     "metadata": {},
     "output_type": "execute_result"
    }
   ],
   "source": [
    "# We already loaded the data, so now we will look at the data\n",
    "df"
   ]
  },
  {
   "cell_type": "code",
   "execution_count": 12,
   "metadata": {},
   "outputs": [
    {
     "name": "stdout",
     "output_type": "stream",
     "text": [
      "<class 'pandas.core.frame.DataFrame'>\n",
      "RangeIndex: 150 entries, 0 to 149\n",
      "Data columns (total 5 columns):\n",
      " #   Column     Non-Null Count  Dtype  \n",
      "---  ------     --------------  -----  \n",
      " 0   sepal_len  150 non-null    float64\n",
      " 1   sepal_wid  150 non-null    float64\n",
      " 2   petal_len  150 non-null    float64\n",
      " 3   petal_wid  150 non-null    float64\n",
      " 4   class      150 non-null    object \n",
      "dtypes: float64(4), object(1)\n",
      "memory usage: 6.0+ KB\n"
     ]
    }
   ],
   "source": [
    "# What type of data in each colum?\n",
    "df.info()"
   ]
  },
  {
   "cell_type": "code",
   "execution_count": 11,
   "metadata": {},
   "outputs": [
    {
     "data": {
      "text/plain": [
       "150"
      ]
     },
     "execution_count": 11,
     "metadata": {},
     "output_type": "execute_result"
    }
   ],
   "source": [
    "# How many entries in our data set?\n",
    "df.shape[0]"
   ]
  },
  {
   "cell_type": "code",
   "execution_count": 10,
   "metadata": {},
   "outputs": [
    {
     "name": "stdout",
     "output_type": "stream",
     "text": [
      "Index(['sepal_len', 'sepal_wid', 'petal_len', 'petal_wid', 'class'], dtype='object')\n"
     ]
    }
   ],
   "source": [
    "# What are all of the column names?\n",
    "df.columns"
   ]
  },
  {
   "cell_type": "code",
   "execution_count": 13,
   "metadata": {},
   "outputs": [
    {
     "data": {
      "text/html": [
       "<div>\n",
       "<style scoped>\n",
       "    .dataframe tbody tr th:only-of-type {\n",
       "        vertical-align: middle;\n",
       "    }\n",
       "\n",
       "    .dataframe tbody tr th {\n",
       "        vertical-align: top;\n",
       "    }\n",
       "\n",
       "    .dataframe thead th {\n",
       "        text-align: right;\n",
       "    }\n",
       "</style>\n",
       "<table border=\"1\" class=\"dataframe\">\n",
       "  <thead>\n",
       "    <tr style=\"text-align: right;\">\n",
       "      <th></th>\n",
       "      <th>sepal_len</th>\n",
       "      <th>sepal_wid</th>\n",
       "      <th>petal_len</th>\n",
       "      <th>petal_wid</th>\n",
       "    </tr>\n",
       "  </thead>\n",
       "  <tbody>\n",
       "    <tr>\n",
       "      <th>count</th>\n",
       "      <td>150.000000</td>\n",
       "      <td>150.000000</td>\n",
       "      <td>150.000000</td>\n",
       "      <td>150.000000</td>\n",
       "    </tr>\n",
       "    <tr>\n",
       "      <th>mean</th>\n",
       "      <td>5.843333</td>\n",
       "      <td>3.054000</td>\n",
       "      <td>3.758667</td>\n",
       "      <td>1.198667</td>\n",
       "    </tr>\n",
       "    <tr>\n",
       "      <th>std</th>\n",
       "      <td>0.828066</td>\n",
       "      <td>0.433594</td>\n",
       "      <td>1.764420</td>\n",
       "      <td>0.763161</td>\n",
       "    </tr>\n",
       "    <tr>\n",
       "      <th>min</th>\n",
       "      <td>4.300000</td>\n",
       "      <td>2.000000</td>\n",
       "      <td>1.000000</td>\n",
       "      <td>0.100000</td>\n",
       "    </tr>\n",
       "    <tr>\n",
       "      <th>25%</th>\n",
       "      <td>5.100000</td>\n",
       "      <td>2.800000</td>\n",
       "      <td>1.600000</td>\n",
       "      <td>0.300000</td>\n",
       "    </tr>\n",
       "    <tr>\n",
       "      <th>50%</th>\n",
       "      <td>5.800000</td>\n",
       "      <td>3.000000</td>\n",
       "      <td>4.350000</td>\n",
       "      <td>1.300000</td>\n",
       "    </tr>\n",
       "    <tr>\n",
       "      <th>75%</th>\n",
       "      <td>6.400000</td>\n",
       "      <td>3.300000</td>\n",
       "      <td>5.100000</td>\n",
       "      <td>1.800000</td>\n",
       "    </tr>\n",
       "    <tr>\n",
       "      <th>max</th>\n",
       "      <td>7.900000</td>\n",
       "      <td>4.400000</td>\n",
       "      <td>6.900000</td>\n",
       "      <td>2.500000</td>\n",
       "    </tr>\n",
       "  </tbody>\n",
       "</table>\n",
       "</div>"
      ],
      "text/plain": [
       "        sepal_len   sepal_wid   petal_len   petal_wid\n",
       "count  150.000000  150.000000  150.000000  150.000000\n",
       "mean     5.843333    3.054000    3.758667    1.198667\n",
       "std      0.828066    0.433594    1.764420    0.763161\n",
       "min      4.300000    2.000000    1.000000    0.100000\n",
       "25%      5.100000    2.800000    1.600000    0.300000\n",
       "50%      5.800000    3.000000    4.350000    1.300000\n",
       "75%      6.400000    3.300000    5.100000    1.800000\n",
       "max      7.900000    4.400000    6.900000    2.500000"
      ]
     },
     "execution_count": 13,
     "metadata": {},
     "output_type": "execute_result"
    }
   ],
   "source": [
    "# What are the max, min, and mean of each column?\n",
    "df.describe()"
   ]
  },
  {
   "cell_type": "code",
   "execution_count": 14,
   "metadata": {},
   "outputs": [
    {
     "data": {
      "text/plain": [
       "Iris-virginica     50\n",
       "Iris-setosa        50\n",
       "Iris-versicolor    50\n",
       "Name: class, dtype: int64"
      ]
     },
     "execution_count": 14,
     "metadata": {},
     "output_type": "execute_result"
    }
   ],
   "source": [
    "# What are the counts for each item in the class column?\n",
    "df[\"class\"].value_counts()"
   ]
  },
  {
   "cell_type": "code",
   "execution_count": 15,
   "metadata": {},
   "outputs": [
    {
     "data": {
      "text/plain": [
       "sepal_len    0\n",
       "sepal_wid    0\n",
       "petal_len    0\n",
       "petal_wid    0\n",
       "class        0\n",
       "dtype: int64"
      ]
     },
     "execution_count": 15,
     "metadata": {},
     "output_type": "execute_result"
    }
   ],
   "source": [
    "# Are there any Nans in the data?\n",
    "df.isna().sum()"
   ]
  },
  {
   "cell_type": "markdown",
   "metadata": {},
   "source": [
    "Explain here:\n"
   ]
  },
  {
   "cell_type": "code",
   "execution_count": 16,
   "metadata": {},
   "outputs": [
    {
     "data": {
      "image/png": "[encoded data removed]",
      "text/plain": [
       "<Figure size 1440x1080 with 4 Axes>"
      ]
     },
     "metadata": {
      "needs_background": "light"
     },
     "output_type": "display_data"
    }
   ],
   "source": [
    "# Histogram\n",
    "df.hist(bins=50, figsize=(20,15))\n",
    "plt.show()"
   ]
  },
  {
   "cell_type": "markdown",
   "metadata": {},
   "source": [
    "It looks like in the petal width histogram, there are some outliers early on in the x-axis with a large petal width. Everything else has a similar petal width. \n",
    "\n",
    "The sepal width also has some outliers around 3.0 with a large sepal width. Sepal length seems ok, and petal length has outliers at the beginning of the x-axis as well. "
   ]
  },
  {
   "cell_type": "code",
   "execution_count": 18,
   "metadata": {},
   "outputs": [],
   "source": [
    "# Splitting our data into test_set and train_set\n",
    "train_set, test_set = train_test_split(df, test_size=0.2, random_state=42)"
   ]
  },
  {
   "cell_type": "code",
   "execution_count": 19,
   "metadata": {},
   "outputs": [
    {
     "data": {
      "text/html": [
       "<div>\n",
       "<style scoped>\n",
       "    .dataframe tbody tr th:only-of-type {\n",
       "        vertical-align: middle;\n",
       "    }\n",
       "\n",
       "    .dataframe tbody tr th {\n",
       "        vertical-align: top;\n",
       "    }\n",
       "\n",
       "    .dataframe thead th {\n",
       "        text-align: right;\n",
       "    }\n",
       "</style>\n",
       "<table border=\"1\" class=\"dataframe\">\n",
       "  <thead>\n",
       "    <tr style=\"text-align: right;\">\n",
       "      <th></th>\n",
       "      <th>sepal_len</th>\n",
       "      <th>sepal_wid</th>\n",
       "      <th>petal_len</th>\n",
       "      <th>petal_wid</th>\n",
       "    </tr>\n",
       "  </thead>\n",
       "  <tbody>\n",
       "    <tr>\n",
       "      <th>count</th>\n",
       "      <td>120.000000</td>\n",
       "      <td>120.000000</td>\n",
       "      <td>120.000000</td>\n",
       "      <td>120.000000</td>\n",
       "    </tr>\n",
       "    <tr>\n",
       "      <th>mean</th>\n",
       "      <td>5.809167</td>\n",
       "      <td>3.057500</td>\n",
       "      <td>3.727500</td>\n",
       "      <td>1.182500</td>\n",
       "    </tr>\n",
       "    <tr>\n",
       "      <th>std</th>\n",
       "      <td>0.823805</td>\n",
       "      <td>0.446398</td>\n",
       "      <td>1.751252</td>\n",
       "      <td>0.753442</td>\n",
       "    </tr>\n",
       "    <tr>\n",
       "      <th>min</th>\n",
       "      <td>4.300000</td>\n",
       "      <td>2.000000</td>\n",
       "      <td>1.000000</td>\n",
       "      <td>0.100000</td>\n",
       "    </tr>\n",
       "    <tr>\n",
       "      <th>25%</th>\n",
       "      <td>5.100000</td>\n",
       "      <td>2.800000</td>\n",
       "      <td>1.500000</td>\n",
       "      <td>0.300000</td>\n",
       "    </tr>\n",
       "    <tr>\n",
       "      <th>50%</th>\n",
       "      <td>5.750000</td>\n",
       "      <td>3.000000</td>\n",
       "      <td>4.250000</td>\n",
       "      <td>1.300000</td>\n",
       "    </tr>\n",
       "    <tr>\n",
       "      <th>75%</th>\n",
       "      <td>6.400000</td>\n",
       "      <td>3.325000</td>\n",
       "      <td>5.100000</td>\n",
       "      <td>1.800000</td>\n",
       "    </tr>\n",
       "    <tr>\n",
       "      <th>max</th>\n",
       "      <td>7.700000</td>\n",
       "      <td>4.400000</td>\n",
       "      <td>6.700000</td>\n",
       "      <td>2.500000</td>\n",
       "    </tr>\n",
       "  </tbody>\n",
       "</table>\n",
       "</div>"
      ],
      "text/plain": [
       "        sepal_len   sepal_wid   petal_len   petal_wid\n",
       "count  120.000000  120.000000  120.000000  120.000000\n",
       "mean     5.809167    3.057500    3.727500    1.182500\n",
       "std      0.823805    0.446398    1.751252    0.753442\n",
       "min      4.300000    2.000000    1.000000    0.100000\n",
       "25%      5.100000    2.800000    1.500000    0.300000\n",
       "50%      5.750000    3.000000    4.250000    1.300000\n",
       "75%      6.400000    3.325000    5.100000    1.800000\n",
       "max      7.700000    4.400000    6.700000    2.500000"
      ]
     },
     "execution_count": 19,
     "metadata": {},
     "output_type": "execute_result"
    }
   ],
   "source": [
    "train_set.describe()"
   ]
  },
  {
   "cell_type": "code",
   "execution_count": 20,
   "metadata": {},
   "outputs": [
    {
     "data": {
      "text/html": [
       "<div>\n",
       "<style scoped>\n",
       "    .dataframe tbody tr th:only-of-type {\n",
       "        vertical-align: middle;\n",
       "    }\n",
       "\n",
       "    .dataframe tbody tr th {\n",
       "        vertical-align: top;\n",
       "    }\n",
       "\n",
       "    .dataframe thead th {\n",
       "        text-align: right;\n",
       "    }\n",
       "</style>\n",
       "<table border=\"1\" class=\"dataframe\">\n",
       "  <thead>\n",
       "    <tr style=\"text-align: right;\">\n",
       "      <th></th>\n",
       "      <th>sepal_len</th>\n",
       "      <th>sepal_wid</th>\n",
       "      <th>petal_len</th>\n",
       "      <th>petal_wid</th>\n",
       "    </tr>\n",
       "  </thead>\n",
       "  <tbody>\n",
       "    <tr>\n",
       "      <th>count</th>\n",
       "      <td>30.000000</td>\n",
       "      <td>30.000000</td>\n",
       "      <td>30.000000</td>\n",
       "      <td>30.000000</td>\n",
       "    </tr>\n",
       "    <tr>\n",
       "      <th>mean</th>\n",
       "      <td>5.980000</td>\n",
       "      <td>3.040000</td>\n",
       "      <td>3.883333</td>\n",
       "      <td>1.263333</td>\n",
       "    </tr>\n",
       "    <tr>\n",
       "      <th>std</th>\n",
       "      <td>0.845026</td>\n",
       "      <td>0.384708</td>\n",
       "      <td>1.841305</td>\n",
       "      <td>0.810910</td>\n",
       "    </tr>\n",
       "    <tr>\n",
       "      <th>min</th>\n",
       "      <td>4.700000</td>\n",
       "      <td>2.200000</td>\n",
       "      <td>1.300000</td>\n",
       "      <td>0.100000</td>\n",
       "    </tr>\n",
       "    <tr>\n",
       "      <th>25%</th>\n",
       "      <td>5.425000</td>\n",
       "      <td>2.800000</td>\n",
       "      <td>1.600000</td>\n",
       "      <td>0.325000</td>\n",
       "    </tr>\n",
       "    <tr>\n",
       "      <th>50%</th>\n",
       "      <td>6.050000</td>\n",
       "      <td>3.000000</td>\n",
       "      <td>4.500000</td>\n",
       "      <td>1.350000</td>\n",
       "    </tr>\n",
       "    <tr>\n",
       "      <th>75%</th>\n",
       "      <td>6.500000</td>\n",
       "      <td>3.200000</td>\n",
       "      <td>5.175000</td>\n",
       "      <td>2.000000</td>\n",
       "    </tr>\n",
       "    <tr>\n",
       "      <th>max</th>\n",
       "      <td>7.900000</td>\n",
       "      <td>3.800000</td>\n",
       "      <td>6.900000</td>\n",
       "      <td>2.300000</td>\n",
       "    </tr>\n",
       "  </tbody>\n",
       "</table>\n",
       "</div>"
      ],
      "text/plain": [
       "       sepal_len  sepal_wid  petal_len  petal_wid\n",
       "count  30.000000  30.000000  30.000000  30.000000\n",
       "mean    5.980000   3.040000   3.883333   1.263333\n",
       "std     0.845026   0.384708   1.841305   0.810910\n",
       "min     4.700000   2.200000   1.300000   0.100000\n",
       "25%     5.425000   2.800000   1.600000   0.325000\n",
       "50%     6.050000   3.000000   4.500000   1.350000\n",
       "75%     6.500000   3.200000   5.175000   2.000000\n",
       "max     7.900000   3.800000   6.900000   2.300000"
      ]
     },
     "execution_count": 20,
     "metadata": {},
     "output_type": "execute_result"
    }
   ],
   "source": [
    "test_set.describe()"
   ]
  },
  {
   "cell_type": "markdown",
   "metadata": {},
   "source": [
    "Random data sampling is what we see here, with the mean varying between the two sets and not representing the original data set closely enough. \n",
    "\n",
    "Stratified sampling is when we make sure that certain categories in the data are represented at the correct percentages, meaning the percentages we find in the full set. "
   ]
  },
  {
   "cell_type": "code",
   "execution_count": 24,
   "metadata": {},
   "outputs": [],
   "source": [
    "df[\"petal_wid_cat\"] = pd.cut(df[\"petal_wid\"],\n",
    "                               bins=[0., 0.25, 0.5, 1.5, 2, np.inf],\n",
    "                               labels=[1, 2, 3, 4, 5])"
   ]
  },
  {
   "cell_type": "code",
   "execution_count": 25,
   "metadata": {},
   "outputs": [
    {
     "data": {
      "text/plain": [
       "3    49\n",
       "1    34\n",
       "4    29\n",
       "5    23\n",
       "2    15\n",
       "Name: petal_wid_cat, dtype: int64"
      ]
     },
     "execution_count": 25,
     "metadata": {},
     "output_type": "execute_result"
    }
   ],
   "source": [
    "df[\"petal_wid_cat\"].value_counts()"
   ]
  },
  {
   "cell_type": "code",
   "execution_count": 26,
   "metadata": {},
   "outputs": [],
   "source": [
    "split = StratifiedShuffleSplit(n_splits=1, test_size=0.2, random_state=42)"
   ]
  },
  {
   "cell_type": "code",
   "execution_count": 27,
   "metadata": {},
   "outputs": [
    {
     "name": "stdout",
     "output_type": "stream",
     "text": [
      "[ 27 143 127  33  11  41 145  94 105 128   3 117 144 134   1  53  95  14\n",
      " 132 114  91  32   5  65  99  70  67  60  77  82  46  84 118 112  73 130\n",
      "  97  20  96  42  74  17  10  88  19  13   0  37 101 140 136  28 116 133\n",
      "  87   2 107  21  66 138 135  62 123  61  92 113  68 129  29  15   4  85\n",
      "  93 131  71 120 139  47 142  90  16 103  48 146  54  59  38 119 108  36\n",
      "  24 147 121 122  89 102  18 125  43 126 115  35  80  81  78  51  98  45\n",
      "  83  64  72  31  25  23   6  86   7 124 141  34]\n"
     ]
    }
   ],
   "source": [
    "for train_index, test_index in split.split(df, df[\"petal_wid_cat\"]):\n",
    "    print(train_index)\n",
    "    strat_train_set = df.loc[train_index]\n",
    "    strat_test_set = df.loc[test_index]"
   ]
  },
  {
   "cell_type": "code",
   "execution_count": 29,
   "metadata": {},
   "outputs": [
    {
     "data": {
      "text/html": [
       "<div>\n",
       "<style scoped>\n",
       "    .dataframe tbody tr th:only-of-type {\n",
       "        vertical-align: middle;\n",
       "    }\n",
       "\n",
       "    .dataframe tbody tr th {\n",
       "        vertical-align: top;\n",
       "    }\n",
       "\n",
       "    .dataframe thead th {\n",
       "        text-align: right;\n",
       "    }\n",
       "</style>\n",
       "<table border=\"1\" class=\"dataframe\">\n",
       "  <thead>\n",
       "    <tr style=\"text-align: right;\">\n",
       "      <th></th>\n",
       "      <th>Overall</th>\n",
       "      <th>Stratified</th>\n",
       "      <th>Random</th>\n",
       "      <th>Rand. %error</th>\n",
       "      <th>Strat. %error</th>\n",
       "    </tr>\n",
       "  </thead>\n",
       "  <tbody>\n",
       "    <tr>\n",
       "      <th>1</th>\n",
       "      <td>0.226667</td>\n",
       "      <td>0.233333</td>\n",
       "      <td>0.166667</td>\n",
       "      <td>-26.470588</td>\n",
       "      <td>2.941176</td>\n",
       "    </tr>\n",
       "    <tr>\n",
       "      <th>2</th>\n",
       "      <td>0.100000</td>\n",
       "      <td>0.100000</td>\n",
       "      <td>0.166667</td>\n",
       "      <td>66.666667</td>\n",
       "      <td>0.000000</td>\n",
       "    </tr>\n",
       "    <tr>\n",
       "      <th>3</th>\n",
       "      <td>0.326667</td>\n",
       "      <td>0.333333</td>\n",
       "      <td>0.266667</td>\n",
       "      <td>-18.367347</td>\n",
       "      <td>2.040816</td>\n",
       "    </tr>\n",
       "    <tr>\n",
       "      <th>4</th>\n",
       "      <td>0.193333</td>\n",
       "      <td>0.200000</td>\n",
       "      <td>0.166667</td>\n",
       "      <td>-13.793103</td>\n",
       "      <td>3.448276</td>\n",
       "    </tr>\n",
       "    <tr>\n",
       "      <th>5</th>\n",
       "      <td>0.153333</td>\n",
       "      <td>0.133333</td>\n",
       "      <td>0.233333</td>\n",
       "      <td>52.173913</td>\n",
       "      <td>-13.043478</td>\n",
       "    </tr>\n",
       "  </tbody>\n",
       "</table>\n",
       "</div>"
      ],
      "text/plain": [
       "    Overall  Stratified    Random  Rand. %error  Strat. %error\n",
       "1  0.226667    0.233333  0.166667    -26.470588       2.941176\n",
       "2  0.100000    0.100000  0.166667     66.666667       0.000000\n",
       "3  0.326667    0.333333  0.266667    -18.367347       2.040816\n",
       "4  0.193333    0.200000  0.166667    -13.793103       3.448276\n",
       "5  0.153333    0.133333  0.233333     52.173913     -13.043478"
      ]
     },
     "execution_count": 29,
     "metadata": {},
     "output_type": "execute_result"
    }
   ],
   "source": [
    "def petal_wid_cat_proportions(data):\n",
    "    return data[\"petal_wid_cat\"].value_counts() / len(data)\n",
    "\n",
    "train_set, test_set = train_test_split(df, test_size=0.2, random_state=42)\n",
    "\n",
    "compare_props = pd.DataFrame({\n",
    "    \"Overall\": petal_wid_cat_proportions(df),\n",
    "    \"Stratified\": petal_wid_cat_proportions(strat_test_set),\n",
    "    \"Random\": petal_wid_cat_proportions(test_set),\n",
    "}).sort_index()\n",
    "compare_props[\"Rand. %error\"] = 100 * compare_props[\"Random\"] / compare_props[\"Overall\"] - 100\n",
    "compare_props[\"Strat. %error\"] = 100 * compare_props[\"Stratified\"] / compare_props[\"Overall\"] - 100\n",
    "\n",
    "compare_props"
   ]
  },
  {
   "cell_type": "code",
   "execution_count": 30,
   "metadata": {},
   "outputs": [],
   "source": [
    "for set_ in (strat_train_set, strat_test_set):\n",
    "    set_.drop(\"petal_wid_cat\", axis=1, inplace=True)"
   ]
  },
  {
   "cell_type": "code",
   "execution_count": 31,
   "metadata": {},
   "outputs": [],
   "source": [
    "# Clean copy of the training set\n",
    "df = strat_train_set.copy()"
   ]
  },
  {
   "cell_type": "markdown",
   "metadata": {},
   "source": [
    "#### Code Snippet for the Homework"
   ]
  },
  {
   "cell_type": "code",
   "execution_count": 34,
   "metadata": {},
   "outputs": [
    {
     "data": {
      "image/png": "[encoded data removed]",
      "text/plain": [
       "<Figure size 720x504 with 1 Axes>"
      ]
     },
     "metadata": {
      "needs_background": "light"
     },
     "output_type": "display_data"
    },
    {
     "data": {
      "image/png": "[encoded data removed]",
      "text/plain": [
       "<Figure size 720x288 with 1 Axes>"
      ]
     },
     "metadata": {
      "needs_background": "light"
     },
     "output_type": "display_data"
    }
   ],
   "source": [
    "# FIRST: Make a scatter plot of petal length vs petal width\n",
    "# This should give lots of points\n",
    "df.plot(kind=\"scatter\", x=\"petal_len\", y=\"petal_wid\", figsize=(10,7))\n",
    "\n",
    "###########################################################\n",
    "# SECOND: Make each point different based on what class the flower belongs to\n",
    "data = df.copy()\n",
    "\n",
    "# Create a boolean mask for each class type\n",
    "mask_verginica = data['class']=='Iris-virginica'\n",
    "mask_versicolor = data['class']=='Iris-versicolor'\n",
    "mask_setosa = data['class']=='Iris-setosa'\n",
    "\n",
    "# Make a scatter plot of petal length vs petal width with different labels\n",
    "# You can use this code, but see if you can explain what it is doing!\n",
    "plt.figure(figsize=(10, 4))\n",
    "plt.plot(data['petal_len'][mask_verginica], data['petal_wid'][mask_verginica], \"g^\", label=\"Iris virginica\")\n",
    "plt.plot(data['petal_len'][mask_versicolor], data['petal_wid'][mask_versicolor], \"bs\", label=\"Iris versicolor\")\n",
    "plt.plot(data['petal_len'][mask_setosa], data['petal_wid'][mask_setosa], \"yo\", label=\"Iris setosa\")\n",
    "\n",
    "# Nice formatting\n",
    "plt.xlabel(\"Petal length\", fontsize=14)\n",
    "plt.ylabel(\"Petal width\", fontsize=14)\n",
    "plt.legend(loc=\"center left\", fontsize=14)\n",
    "plt.axis([0, 7, 0, 3.5])\n",
    "plt.show()\n",
    "\n",
    "# Can you try plotting some other interesting things?"
   ]
  },
  {
   "cell_type": "markdown",
   "metadata": {},
   "source": [
    "It looks like the petal length is closer to petal width for the setosa, but for the versicolor and then the virginica, the length becomes much greater than the width. "
   ]
  },
  {
   "cell_type": "code",
   "execution_count": 35,
   "metadata": {},
   "outputs": [],
   "source": [
    "# Correlation matrix\n",
    "corr_matrix = df.corr()"
   ]
  },
  {
   "cell_type": "code",
   "execution_count": 36,
   "metadata": {},
   "outputs": [
    {
     "data": {
      "text/plain": [
       "petal_wid    1.000000\n",
       "petal_len    0.960285\n",
       "sepal_len    0.822391\n",
       "sepal_wid   -0.401525\n",
       "Name: petal_wid, dtype: float64"
      ]
     },
     "execution_count": 36,
     "metadata": {},
     "output_type": "execute_result"
    }
   ],
   "source": [
    "corr_matrix[\"petal_wid\"].sort_values(ascending=False)"
   ]
  },
  {
   "cell_type": "code",
   "execution_count": 37,
   "metadata": {},
   "outputs": [
    {
     "data": {
      "text/plain": [
       "array([[<AxesSubplot:xlabel='petal_wid', ylabel='petal_wid'>,\n",
       "        <AxesSubplot:xlabel='petal_len', ylabel='petal_wid'>,\n",
       "        <AxesSubplot:xlabel='sepal_wid', ylabel='petal_wid'>,\n",
       "        <AxesSubplot:xlabel='sepal_len', ylabel='petal_wid'>],\n",
       "       [<AxesSubplot:xlabel='petal_wid', ylabel='petal_len'>,\n",
       "        <AxesSubplot:xlabel='petal_len', ylabel='petal_len'>,\n",
       "        <AxesSubplot:xlabel='sepal_wid', ylabel='petal_len'>,\n",
       "        <AxesSubplot:xlabel='sepal_len', ylabel='petal_len'>],\n",
       "       [<AxesSubplot:xlabel='petal_wid', ylabel='sepal_wid'>,\n",
       "        <AxesSubplot:xlabel='petal_len', ylabel='sepal_wid'>,\n",
       "        <AxesSubplot:xlabel='sepal_wid', ylabel='sepal_wid'>,\n",
       "        <AxesSubplot:xlabel='sepal_len', ylabel='sepal_wid'>],\n",
       "       [<AxesSubplot:xlabel='petal_wid', ylabel='sepal_len'>,\n",
       "        <AxesSubplot:xlabel='petal_len', ylabel='sepal_len'>,\n",
       "        <AxesSubplot:xlabel='sepal_wid', ylabel='sepal_len'>,\n",
       "        <AxesSubplot:xlabel='sepal_len', ylabel='sepal_len'>]],\n",
       "      dtype=object)"
      ]
     },
     "execution_count": 37,
     "metadata": {},
     "output_type": "execute_result"
    },
    {
     "data": {
      "image/png": "[encoded data removed]",
      "text/plain": [
       "<Figure size 864x576 with 16 Axes>"
      ]
     },
     "metadata": {
      "needs_background": "light"
     },
     "output_type": "display_data"
    }
   ],
   "source": [
    "# Create bar graphs and scatter plots for the variables you are interested in.\n",
    "\n",
    "# Variables of interest\n",
    "attributes = [\"petal_wid\", \"petal_len\", \"sepal_wid\",\n",
    "              \"sepal_len\"]\n",
    "\n",
    "# use the Pandas scatter_matrix to make plots)\n",
    "scatter_matrix(df[attributes], figsize=(12, 8))"
   ]
  },
  {
   "cell_type": "markdown",
   "metadata": {},
   "source": [
    "It looks like the data with the strongest correations are petal length and petal width, petal length and sepal length, and then loosely sepal length and petal width. "
   ]
  },
  {
   "cell_type": "code",
   "execution_count": 38,
   "metadata": {},
   "outputs": [],
   "source": [
    "# Get a clean version of the training data\n",
    "# Just in case you did something weird during exploration\n",
    "\n",
    "# FEATURES or INPUT PARAMETERS\n",
    "df = strat_train_set.drop(\"petal_wid\", axis=1) # drop labels for training set\n",
    "# LABELS or OUTPUT PARAMETERS\n",
    "housing_labels = strat_train_set[\"petal_wid\"].copy()\n",
    "\n",
    "# We want to use the input parameters or features to predict median_house_values or labels."
   ]
  },
  {
   "cell_type": "code",
   "execution_count": 39,
   "metadata": {},
   "outputs": [
    {
     "data": {
      "text/html": [
       "<div>\n",
       "<style scoped>\n",
       "    .dataframe tbody tr th:only-of-type {\n",
       "        vertical-align: middle;\n",
       "    }\n",
       "\n",
       "    .dataframe tbody tr th {\n",
       "        vertical-align: top;\n",
       "    }\n",
       "\n",
       "    .dataframe thead th {\n",
       "        text-align: right;\n",
       "    }\n",
       "</style>\n",
       "<table border=\"1\" class=\"dataframe\">\n",
       "  <thead>\n",
       "    <tr style=\"text-align: right;\">\n",
       "      <th></th>\n",
       "      <th>sepal_len</th>\n",
       "      <th>sepal_wid</th>\n",
       "      <th>petal_len</th>\n",
       "      <th>class</th>\n",
       "    </tr>\n",
       "  </thead>\n",
       "  <tbody>\n",
       "  </tbody>\n",
       "</table>\n",
       "</div>"
      ],
      "text/plain": [
       "Empty DataFrame\n",
       "Columns: [sepal_len, sepal_wid, petal_len, class]\n",
       "Index: []"
      ]
     },
     "execution_count": 39,
     "metadata": {},
     "output_type": "execute_result"
    }
   ],
   "source": [
    "sample_incomplete_rows = df[df.isnull().any(axis=1)].head()\n",
    "sample_incomplete_rows"
   ]
  },
  {
   "cell_type": "code",
   "execution_count": 40,
   "metadata": {},
   "outputs": [
    {
     "data": {
      "text/html": [
       "<div>\n",
       "<style scoped>\n",
       "    .dataframe tbody tr th:only-of-type {\n",
       "        vertical-align: middle;\n",
       "    }\n",
       "\n",
       "    .dataframe tbody tr th {\n",
       "        vertical-align: top;\n",
       "    }\n",
       "\n",
       "    .dataframe thead th {\n",
       "        text-align: right;\n",
       "    }\n",
       "</style>\n",
       "<table border=\"1\" class=\"dataframe\">\n",
       "  <thead>\n",
       "    <tr style=\"text-align: right;\">\n",
       "      <th></th>\n",
       "      <th>class</th>\n",
       "    </tr>\n",
       "  </thead>\n",
       "  <tbody>\n",
       "    <tr>\n",
       "      <th>27</th>\n",
       "      <td>Iris-setosa</td>\n",
       "    </tr>\n",
       "    <tr>\n",
       "      <th>143</th>\n",
       "      <td>Iris-virginica</td>\n",
       "    </tr>\n",
       "    <tr>\n",
       "      <th>127</th>\n",
       "      <td>Iris-virginica</td>\n",
       "    </tr>\n",
       "    <tr>\n",
       "      <th>33</th>\n",
       "      <td>Iris-setosa</td>\n",
       "    </tr>\n",
       "    <tr>\n",
       "      <th>11</th>\n",
       "      <td>Iris-setosa</td>\n",
       "    </tr>\n",
       "    <tr>\n",
       "      <th>41</th>\n",
       "      <td>Iris-setosa</td>\n",
       "    </tr>\n",
       "    <tr>\n",
       "      <th>145</th>\n",
       "      <td>Iris-virginica</td>\n",
       "    </tr>\n",
       "    <tr>\n",
       "      <th>94</th>\n",
       "      <td>Iris-versicolor</td>\n",
       "    </tr>\n",
       "    <tr>\n",
       "      <th>105</th>\n",
       "      <td>Iris-virginica</td>\n",
       "    </tr>\n",
       "    <tr>\n",
       "      <th>128</th>\n",
       "      <td>Iris-virginica</td>\n",
       "    </tr>\n",
       "  </tbody>\n",
       "</table>\n",
       "</div>"
      ],
      "text/plain": [
       "               class\n",
       "27       Iris-setosa\n",
       "143   Iris-virginica\n",
       "127   Iris-virginica\n",
       "33       Iris-setosa\n",
       "11       Iris-setosa\n",
       "41       Iris-setosa\n",
       "145   Iris-virginica\n",
       "94   Iris-versicolor\n",
       "105   Iris-virginica\n",
       "128   Iris-virginica"
      ]
     },
     "execution_count": 40,
     "metadata": {},
     "output_type": "execute_result"
    }
   ],
   "source": [
    "df_cat = df[[\"class\"]]\n",
    "df_cat.head(10)"
   ]
  },
  {
   "cell_type": "code",
   "execution_count": 41,
   "metadata": {},
   "outputs": [
    {
     "data": {
      "text/plain": [
       "array([[0.],\n",
       "       [2.],\n",
       "       [2.],\n",
       "       [0.],\n",
       "       [0.],\n",
       "       [0.],\n",
       "       [2.],\n",
       "       [1.],\n",
       "       [2.],\n",
       "       [2.]])"
      ]
     },
     "execution_count": 41,
     "metadata": {},
     "output_type": "execute_result"
    }
   ],
   "source": [
    "# Define the encoder\n",
    "ordinal_encoder = OrdinalEncoder()\n",
    "\n",
    "# Send the categorical data through the encoder\n",
    "df_cat_encoded = ordinal_encoder.fit_transform(df_cat)\n",
    "\n",
    "# This produces an aray of values that we could add as a column in our Data Frame\n",
    "df_cat_encoded[:10]"
   ]
  },
  {
   "cell_type": "code",
   "execution_count": 42,
   "metadata": {},
   "outputs": [
    {
     "name": "stdout",
     "output_type": "stream",
     "text": [
      "[array(['Iris-setosa', 'Iris-versicolor', 'Iris-virginica'], dtype=object)]\n"
     ]
    }
   ],
   "source": [
    "print(ordinal_encoder.categories_)"
   ]
  },
  {
   "cell_type": "code",
   "execution_count": 43,
   "metadata": {},
   "outputs": [
    {
     "data": {
      "text/html": [
       "<div>\n",
       "<style scoped>\n",
       "    .dataframe tbody tr th:only-of-type {\n",
       "        vertical-align: middle;\n",
       "    }\n",
       "\n",
       "    .dataframe tbody tr th {\n",
       "        vertical-align: top;\n",
       "    }\n",
       "\n",
       "    .dataframe thead th {\n",
       "        text-align: right;\n",
       "    }\n",
       "</style>\n",
       "<table border=\"1\" class=\"dataframe\">\n",
       "  <thead>\n",
       "    <tr style=\"text-align: right;\">\n",
       "      <th></th>\n",
       "      <th>sepal_len</th>\n",
       "      <th>sepal_wid</th>\n",
       "      <th>petal_len</th>\n",
       "    </tr>\n",
       "  </thead>\n",
       "  <tbody>\n",
       "    <tr>\n",
       "      <th>27</th>\n",
       "      <td>5.2</td>\n",
       "      <td>3.5</td>\n",
       "      <td>1.5</td>\n",
       "    </tr>\n",
       "    <tr>\n",
       "      <th>143</th>\n",
       "      <td>6.8</td>\n",
       "      <td>3.2</td>\n",
       "      <td>5.9</td>\n",
       "    </tr>\n",
       "    <tr>\n",
       "      <th>127</th>\n",
       "      <td>6.1</td>\n",
       "      <td>3.0</td>\n",
       "      <td>4.9</td>\n",
       "    </tr>\n",
       "    <tr>\n",
       "      <th>33</th>\n",
       "      <td>5.5</td>\n",
       "      <td>4.2</td>\n",
       "      <td>1.4</td>\n",
       "    </tr>\n",
       "    <tr>\n",
       "      <th>11</th>\n",
       "      <td>4.8</td>\n",
       "      <td>3.4</td>\n",
       "      <td>1.6</td>\n",
       "    </tr>\n",
       "  </tbody>\n",
       "</table>\n",
       "</div>"
      ],
      "text/plain": [
       "     sepal_len  sepal_wid  petal_len\n",
       "27         5.2        3.5        1.5\n",
       "143        6.8        3.2        5.9\n",
       "127        6.1        3.0        4.9\n",
       "33         5.5        4.2        1.4\n",
       "11         4.8        3.4        1.6"
      ]
     },
     "execution_count": 43,
     "metadata": {},
     "output_type": "execute_result"
    }
   ],
   "source": [
    "# Standard Scalar from sklearn\n",
    "scalar = StandardScaler()\n",
    "\n",
    "# This works only with numerical data: \n",
    "# housing_scaled = scalar.fit_transform(housing) # Gives an error\n",
    "# So we drop the categorical collumns to proceed\n",
    "df_num = df.drop(columns=[\"class\"])\n",
    "df_num.head()"
   ]
  },
  {
   "cell_type": "code",
   "execution_count": 44,
   "metadata": {},
   "outputs": [
    {
     "data": {
      "text/plain": [
       "array([[-0.80007555,  1.00186719, -1.28138883],\n",
       "       [ 1.13705567,  0.33764585,  1.20236045],\n",
       "       [ 0.28956076, -0.10516838,  0.63787197],\n",
       "       [-0.43686345,  2.55171698, -1.33783768],\n",
       "       [-1.28435836,  0.78046007, -1.22493999],\n",
       "       [-1.64757046, -1.65501817, -1.39428653],\n",
       "       [ 1.01598497, -0.10516838,  0.80721852],\n",
       "       [-0.31579275, -0.76938972,  0.24273004],\n",
       "       [ 2.10562128, -0.10516838,  1.59750238],\n",
       "       [ 0.65277287, -0.5479826 ,  1.03301391],\n",
       "       [-1.52649976,  0.11623873, -1.28138883],\n",
       "       [ 2.22669198,  1.66608853,  1.65395123],\n",
       "       [ 1.01598497,  0.55905296,  1.08946275],\n",
       "       [ 0.28956076, -0.99079683,  1.03301391],\n",
       "       [-1.16328766, -0.10516838, -1.33783768],\n",
       "       [-0.43686345, -1.65501817,  0.12983235],\n",
       "       [-0.19472204, -0.10516838,  0.24273004],\n",
       "       [-0.07365134,  2.10890275, -1.45073538],\n",
       "       [ 0.65277287, -0.5479826 ,  1.03301391],\n",
       "       [-0.07365134, -0.5479826 ,  0.75076967],\n",
       "       [ 0.28956076, -0.10516838,  0.46852543],\n",
       "       [-0.80007555,  2.33030986, -1.28138883],\n",
       "       [-0.55793415,  1.88749564, -1.16849114],\n",
       "       [ 1.01598497,  0.11623873,  0.35562774],\n",
       "       [-0.19472204, -0.5479826 ,  0.1862812 ],\n",
       "       [ 0.04741936,  0.33764585,  0.58142313],\n",
       "       [-0.07365134, -0.76938972,  0.1862812 ],\n",
       "       [-1.04221695, -2.31923951, -0.15241189],\n",
       "       [ 1.01598497, -0.10516838,  0.69432082],\n",
       "       [-0.07365134, -0.76938972,  0.0733835 ],\n",
       "       [-0.92114625,  1.66608853, -1.22493999],\n",
       "       [-0.55793415, -0.10516838,  0.41207659],\n",
       "       [ 2.22669198, -0.99079683,  1.76684892],\n",
       "       [ 1.13705567, -0.10516838,  0.97656506],\n",
       "       [ 0.28956076, -0.5479826 ,  0.52497428],\n",
       "       [ 1.86347988, -0.5479826 ,  1.31525814],\n",
       "       [ 0.41063146, -0.32657549,  0.29917889],\n",
       "       [-0.55793415,  0.78046007, -1.16849114],\n",
       "       [-0.19472204, -0.32657549,  0.24273004],\n",
       "       [-1.76864116,  0.33764585, -1.39428653],\n",
       "       [ 0.65277287, -0.32657549,  0.29917889],\n",
       "       [-0.92114625,  1.00186719, -1.33783768],\n",
       "       [-0.55793415,  1.44468141, -1.28138883],\n",
       "       [-0.31579275, -0.10516838,  0.1862812 ],\n",
       "       [-0.92114625,  1.66608853, -1.28138883],\n",
       "       [-1.88971186, -0.10516838, -1.50718422],\n",
       "       [-0.92114625,  1.00186719, -1.33783768],\n",
       "       [-1.16328766,  0.11623873, -1.28138883],\n",
       "       [-0.07365134, -0.76938972,  0.75076967],\n",
       "       [ 1.01598497,  0.11623873,  1.03301391],\n",
       "       [ 0.53170216,  0.78046007,  1.03301391],\n",
       "       [-0.80007555,  0.78046007, -1.33783768],\n",
       "       [ 0.77384357, -0.10516838,  0.97656506],\n",
       "       [ 0.53170216, -0.5479826 ,  0.75076967],\n",
       "       [ 0.53170216, -1.65501817,  0.35562774],\n",
       "       [-1.40542906,  0.33764585, -1.39428653],\n",
       "       [ 1.74240918, -0.32657549,  1.42815584],\n",
       "       [-0.92114625,  1.44468141, -1.28138883],\n",
       "       [-0.31579275, -0.10516838,  0.41207659],\n",
       "       [ 0.16849006, -0.10516838,  0.58142313],\n",
       "       [ 2.22669198, -0.10516838,  1.31525814],\n",
       "       [ 0.16849006, -1.87642528,  0.12983235],\n",
       "       [ 0.53170216, -0.76938972,  0.63787197],\n",
       "       [ 0.04741936, -0.10516838,  0.24273004],\n",
       "       [-0.07365134, -0.99079683,  0.12983235],\n",
       "       [-0.19472204, -1.21220394,  0.69432082],\n",
       "       [ 0.41063146, -1.87642528,  0.41207659],\n",
       "       [ 1.62133848, -0.10516838,  1.1459116 ],\n",
       "       [-1.40542906,  0.33764585, -1.22493999],\n",
       "       [-0.19472204,  2.9945312 , -1.28138883],\n",
       "       [-1.04221695,  1.2232743 , -1.33783768],\n",
       "       [ 0.16849006,  0.78046007,  0.41207659],\n",
       "       [-1.04221695, -1.65501817, -0.26530958],\n",
       "       [ 2.46883339,  1.66608853,  1.48460468],\n",
       "       [ 0.28956076, -0.5479826 ,  0.12983235],\n",
       "       [ 1.25812637,  0.33764585,  1.08946275],\n",
       "       [ 1.25812637,  0.11623873,  0.92011621],\n",
       "       [-1.52649976,  0.33764585, -1.33783768],\n",
       "       [-0.07365134, -0.76938972,  0.75076967],\n",
       "       [-0.43686345, -0.99079683,  0.35562774],\n",
       "       [-0.55793415,  1.88749564, -1.39428653],\n",
       "       [ 0.53170216, -0.32657549,  1.03301391],\n",
       "       [-0.67900485,  1.44468141, -1.28138883],\n",
       "       [ 0.53170216, -1.21220394,  0.69432082],\n",
       "       [ 0.77384357, -0.5479826 ,  0.46852543],\n",
       "       [-0.80007555, -0.76938972,  0.0733835 ],\n",
       "       [-1.76864116, -0.10516838, -1.39428653],\n",
       "       [ 0.16849006, -1.87642528,  0.69432082],\n",
       "       [ 1.01598497, -1.21220394,  1.1459116 ],\n",
       "       [-0.43686345,  1.00186719, -1.39428653],\n",
       "       [-1.28435836,  0.78046007, -1.05559344],\n",
       "       [ 0.77384357, -0.10516838,  0.80721852],\n",
       "       [-0.31579275, -0.5479826 ,  0.63787197],\n",
       "       [ 2.22669198, -0.5479826 ,  1.65395123],\n",
       "       [-0.43686345, -1.21220394,  0.12983235],\n",
       "       [ 1.50026778, -0.10516838,  1.20236045],\n",
       "       [-0.19472204,  1.66608853, -1.16849114],\n",
       "       [ 1.62133848,  0.33764585,  1.2588093 ],\n",
       "       [-1.04221695,  1.00186719, -1.22493999],\n",
       "       [ 0.41063146, -0.5479826 ,  0.58142313],\n",
       "       [ 0.65277287,  0.33764585,  0.86366736],\n",
       "       [-1.04221695,  0.33764585, -1.45073538],\n",
       "       [-0.43686345, -1.43361106,  0.01693465],\n",
       "       [-0.43686345, -1.43361106, -0.03951419],\n",
       "       [ 0.16849006, -0.32657549,  0.41207659],\n",
       "       [ 0.65277287,  0.33764585,  0.41207659],\n",
       "       [-0.92114625, -1.21220394, -0.43465612],\n",
       "       [-1.28435836, -0.10516838, -1.33783768],\n",
       "       [ 0.16849006, -0.76938972,  0.75076967],\n",
       "       [-0.31579275, -0.32657549, -0.09596304],\n",
       "       [ 0.53170216, -1.21220394,  0.63787197],\n",
       "       [-0.55793415,  0.78046007, -1.28138883],\n",
       "       [-1.04221695, -0.10516838, -1.22493999],\n",
       "       [-0.92114625,  0.55905296, -1.16849114],\n",
       "       [-1.52649976,  0.78046007, -1.33783768],\n",
       "       [ 1.01598497,  0.11623873,  0.52497428],\n",
       "       [-1.04221695,  0.78046007, -1.28138883],\n",
       "       [ 1.01598497,  0.55905296,  1.08946275],\n",
       "       [ 1.25812637,  0.11623873,  0.75076967],\n",
       "       [-1.16328766,  0.11623873, -1.28138883]])"
      ]
     },
     "execution_count": 44,
     "metadata": {},
     "output_type": "execute_result"
    }
   ],
   "source": [
    "df_scaled = scalar.fit_transform(df_num)\n",
    "df_scaled"
   ]
  },
  {
   "cell_type": "code",
   "execution_count": 45,
   "metadata": {},
   "outputs": [
    {
     "data": {
      "text/plain": [
       "(120, 3)"
      ]
     },
     "execution_count": 45,
     "metadata": {},
     "output_type": "execute_result"
    }
   ],
   "source": [
    "df_scaled.shape"
   ]
  },
  {
   "cell_type": "code",
   "execution_count": 46,
   "metadata": {},
   "outputs": [
    {
     "data": {
      "text/html": [
       "<div>\n",
       "<style scoped>\n",
       "    .dataframe tbody tr th:only-of-type {\n",
       "        vertical-align: middle;\n",
       "    }\n",
       "\n",
       "    .dataframe tbody tr th {\n",
       "        vertical-align: top;\n",
       "    }\n",
       "\n",
       "    .dataframe thead th {\n",
       "        text-align: right;\n",
       "    }\n",
       "</style>\n",
       "<table border=\"1\" class=\"dataframe\">\n",
       "  <thead>\n",
       "    <tr style=\"text-align: right;\">\n",
       "      <th></th>\n",
       "      <th>0</th>\n",
       "      <th>1</th>\n",
       "      <th>2</th>\n",
       "    </tr>\n",
       "  </thead>\n",
       "  <tbody>\n",
       "    <tr>\n",
       "      <th>0</th>\n",
       "      <td>-0.800076</td>\n",
       "      <td>1.001867</td>\n",
       "      <td>-1.281389</td>\n",
       "    </tr>\n",
       "    <tr>\n",
       "      <th>1</th>\n",
       "      <td>1.137056</td>\n",
       "      <td>0.337646</td>\n",
       "      <td>1.202360</td>\n",
       "    </tr>\n",
       "    <tr>\n",
       "      <th>2</th>\n",
       "      <td>0.289561</td>\n",
       "      <td>-0.105168</td>\n",
       "      <td>0.637872</td>\n",
       "    </tr>\n",
       "    <tr>\n",
       "      <th>3</th>\n",
       "      <td>-0.436863</td>\n",
       "      <td>2.551717</td>\n",
       "      <td>-1.337838</td>\n",
       "    </tr>\n",
       "    <tr>\n",
       "      <th>4</th>\n",
       "      <td>-1.284358</td>\n",
       "      <td>0.780460</td>\n",
       "      <td>-1.224940</td>\n",
       "    </tr>\n",
       "    <tr>\n",
       "      <th>...</th>\n",
       "      <td>...</td>\n",
       "      <td>...</td>\n",
       "      <td>...</td>\n",
       "    </tr>\n",
       "    <tr>\n",
       "      <th>115</th>\n",
       "      <td>1.015985</td>\n",
       "      <td>0.116239</td>\n",
       "      <td>0.524974</td>\n",
       "    </tr>\n",
       "    <tr>\n",
       "      <th>116</th>\n",
       "      <td>-1.042217</td>\n",
       "      <td>0.780460</td>\n",
       "      <td>-1.281389</td>\n",
       "    </tr>\n",
       "    <tr>\n",
       "      <th>117</th>\n",
       "      <td>1.015985</td>\n",
       "      <td>0.559053</td>\n",
       "      <td>1.089463</td>\n",
       "    </tr>\n",
       "    <tr>\n",
       "      <th>118</th>\n",
       "      <td>1.258126</td>\n",
       "      <td>0.116239</td>\n",
       "      <td>0.750770</td>\n",
       "    </tr>\n",
       "    <tr>\n",
       "      <th>119</th>\n",
       "      <td>-1.163288</td>\n",
       "      <td>0.116239</td>\n",
       "      <td>-1.281389</td>\n",
       "    </tr>\n",
       "  </tbody>\n",
       "</table>\n",
       "<p>120 rows × 3 columns</p>\n",
       "</div>"
      ],
      "text/plain": [
       "            0         1         2\n",
       "0   -0.800076  1.001867 -1.281389\n",
       "1    1.137056  0.337646  1.202360\n",
       "2    0.289561 -0.105168  0.637872\n",
       "3   -0.436863  2.551717 -1.337838\n",
       "4   -1.284358  0.780460 -1.224940\n",
       "..        ...       ...       ...\n",
       "115  1.015985  0.116239  0.524974\n",
       "116 -1.042217  0.780460 -1.281389\n",
       "117  1.015985  0.559053  1.089463\n",
       "118  1.258126  0.116239  0.750770\n",
       "119 -1.163288  0.116239 -1.281389\n",
       "\n",
       "[120 rows x 3 columns]"
      ]
     },
     "execution_count": 46,
     "metadata": {},
     "output_type": "execute_result"
    }
   ],
   "source": [
    "checkdf = pd.DataFrame(df_scaled)\n",
    "checkdf"
   ]
  },
  {
   "cell_type": "code",
   "execution_count": 49,
   "metadata": {},
   "outputs": [
    {
     "data": {
      "text/html": [
       "<div>\n",
       "<style scoped>\n",
       "    .dataframe tbody tr th:only-of-type {\n",
       "        vertical-align: middle;\n",
       "    }\n",
       "\n",
       "    .dataframe tbody tr th {\n",
       "        vertical-align: top;\n",
       "    }\n",
       "\n",
       "    .dataframe thead th {\n",
       "        text-align: right;\n",
       "    }\n",
       "</style>\n",
       "<table border=\"1\" class=\"dataframe\">\n",
       "  <thead>\n",
       "    <tr style=\"text-align: right;\">\n",
       "      <th></th>\n",
       "      <th>0</th>\n",
       "      <th>1</th>\n",
       "      <th>2</th>\n",
       "    </tr>\n",
       "  </thead>\n",
       "  <tbody>\n",
       "    <tr>\n",
       "      <th>0</th>\n",
       "      <td>-0.800076</td>\n",
       "      <td>1.001867</td>\n",
       "      <td>-1.281389</td>\n",
       "    </tr>\n",
       "    <tr>\n",
       "      <th>1</th>\n",
       "      <td>1.137056</td>\n",
       "      <td>0.337646</td>\n",
       "      <td>1.202360</td>\n",
       "    </tr>\n",
       "    <tr>\n",
       "      <th>2</th>\n",
       "      <td>0.289561</td>\n",
       "      <td>-0.105168</td>\n",
       "      <td>0.637872</td>\n",
       "    </tr>\n",
       "    <tr>\n",
       "      <th>3</th>\n",
       "      <td>-0.436863</td>\n",
       "      <td>2.551717</td>\n",
       "      <td>-1.337838</td>\n",
       "    </tr>\n",
       "    <tr>\n",
       "      <th>4</th>\n",
       "      <td>-1.284358</td>\n",
       "      <td>0.780460</td>\n",
       "      <td>-1.224940</td>\n",
       "    </tr>\n",
       "    <tr>\n",
       "      <th>5</th>\n",
       "      <td>-1.647570</td>\n",
       "      <td>-1.655018</td>\n",
       "      <td>-1.394287</td>\n",
       "    </tr>\n",
       "    <tr>\n",
       "      <th>6</th>\n",
       "      <td>1.015985</td>\n",
       "      <td>-0.105168</td>\n",
       "      <td>0.807219</td>\n",
       "    </tr>\n",
       "    <tr>\n",
       "      <th>7</th>\n",
       "      <td>-0.315793</td>\n",
       "      <td>-0.769390</td>\n",
       "      <td>0.242730</td>\n",
       "    </tr>\n",
       "    <tr>\n",
       "      <th>8</th>\n",
       "      <td>2.105621</td>\n",
       "      <td>-0.105168</td>\n",
       "      <td>1.597502</td>\n",
       "    </tr>\n",
       "    <tr>\n",
       "      <th>9</th>\n",
       "      <td>0.652773</td>\n",
       "      <td>-0.547983</td>\n",
       "      <td>1.033014</td>\n",
       "    </tr>\n",
       "  </tbody>\n",
       "</table>\n",
       "</div>"
      ],
      "text/plain": [
       "          0         1         2\n",
       "0 -0.800076  1.001867 -1.281389\n",
       "1  1.137056  0.337646  1.202360\n",
       "2  0.289561 -0.105168  0.637872\n",
       "3 -0.436863  2.551717 -1.337838\n",
       "4 -1.284358  0.780460 -1.224940\n",
       "5 -1.647570 -1.655018 -1.394287\n",
       "6  1.015985 -0.105168  0.807219\n",
       "7 -0.315793 -0.769390  0.242730\n",
       "8  2.105621 -0.105168  1.597502\n",
       "9  0.652773 -0.547983  1.033014"
      ]
     },
     "execution_count": 49,
     "metadata": {},
     "output_type": "execute_result"
    }
   ],
   "source": [
    "checkdf.head(10)"
   ]
  },
  {
   "cell_type": "code",
   "execution_count": null,
   "metadata": {},
   "outputs": [],
   "source": []
  },
  {
   "cell_type": "code",
   "execution_count": null,
   "metadata": {},
   "outputs": [],
   "source": []
  },
  {
   "cell_type": "code",
   "execution_count": null,
   "metadata": {},
   "outputs": [],
   "source": []
  },
  {
   "cell_type": "code",
   "execution_count": null,
   "metadata": {},
   "outputs": [],
   "source": []
  }
 ],
 "metadata": {
  "kernelspec": {
   "display_name": "Python 3",
   "language": "python",
   "name": "python3"
  },
  "language_info": {
   "codemirror_mode": {
    "name": "ipython",
    "version": 3
   },
   "file_extension": ".py",
   "mimetype": "text/x-python",
   "name": "python",
   "nbconvert_exporter": "python",
   "pygments_lexer": "ipython3",
   "version": "3.8.5"
  }
 },
 "nbformat": 4,
 "nbformat_minor": 4
}
