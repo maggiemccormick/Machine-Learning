{
 "cells": [
  {
   "cell_type": "markdown",
   "metadata": {},
   "source": [
    "# Introduction to Jupyter Notebooks\n",
    "\n",
    "This is a Jupyter notebook. A Jupyter notebook is an interactive environment divided into cells. \n",
    "\n",
    "### Cells have multiple modes. \n",
    "- Code for calcuations.\n",
    "- Markdown for text formatting\n",
    "\n",
    "Cells are activated with shift/return or the Run command in top menu.\n",
    "Juypter notebooks are most commonly used with Python, but support multiple programming languages.  \n",
    "\n",
    "**Google colab** is a notebook stored in Google Drive. \n",
    "\n",
    "Instructions on how to get set-up in Colab (and installing Jupyter notebooks if desired) and submitting HW via Colab are given in a video on the Moodle page.\n"
   ]
  },
  {
   "cell_type": "code",
   "execution_count": 5,
   "metadata": {},
   "outputs": [
    {
     "data": {
      "text/plain": [
       "4"
      ]
     },
     "execution_count": 5,
     "metadata": {},
     "output_type": "execute_result"
    }
   ],
   "source": [
    "2+2"
   ]
  },
  {
   "cell_type": "code",
   "execution_count": 2,
   "metadata": {},
   "outputs": [
    {
     "data": {
      "text/plain": [
       "6"
      ]
     },
     "execution_count": 2,
     "metadata": {},
     "output_type": "execute_result"
    }
   ],
   "source": [
    "2*3"
   ]
  },
  {
   "cell_type": "code",
   "execution_count": 3,
   "metadata": {},
   "outputs": [
    {
     "data": {
      "text/plain": [
       "1"
      ]
     },
     "execution_count": 3,
     "metadata": {},
     "output_type": "execute_result"
    }
   ],
   "source": [
    "2^3\n",
    "##What??"
   ]
  },
  {
   "cell_type": "code",
   "execution_count": 4,
   "metadata": {},
   "outputs": [
    {
     "data": {
      "text/plain": [
       "8"
      ]
     },
     "execution_count": 4,
     "metadata": {},
     "output_type": "execute_result"
    }
   ],
   "source": [
    "2**3"
   ]
  },
  {
   "cell_type": "markdown",
   "metadata": {},
   "source": [
    "Note: ^ is Binary xor, not exponentiation, in Python: 10 xor 11 = 01"
   ]
  },
  {
   "cell_type": "markdown",
   "metadata": {},
   "source": []
  },
  {
   "cell_type": "markdown",
   "metadata": {},
   "source": [
    "# Formatting\n",
    "\n",
    "Headers use the \"#\" symbol\n",
    "# Header1\n",
    "## Header2\n",
    "### Header3\n",
    "\n",
    "##### Unordered lists\n",
    "- use hypthen\n",
    "+ or plus\n",
    "* or asterisk\n",
    "* Note: Need the space after symbol\n",
    "\n",
    "##### Ordered lists\n",
    "1. use number followed by period\n",
    "6. The actual number doesn't matter except that the first number must be 1.\n",
    " 1. a sublist just needs a space or tab, but still uses a number.\n",
    " 4. the number also doesn't matter here.\n",
    "    3. But the number does matter here.\n",
    "\n",
    "##### Different types of Text\n",
    "- Emphasis/italics use *asterisks* or _underscores_\n",
    "- Bold uses double **asterisks** or __underscores__\n",
    "- Strikethrough uses two tildes. ~~strike it out~~\n",
    "\n",
    "[Link to Markdown Cheatsheet](https://github.com/adam-p/markdown-here/wiki/Markdown-Cheatsheet)\n",
    "\n",
    "##### Newlines and Paragraphs.\n",
    "\n",
    "Leaving an empty line will create a new paragraph (blank space in between). \n",
    "\n",
    "Leaving two spaces at the end of the line    \n",
    "will just create a new line.\n",
    "\n",
    "##### Mathematical Equations\n",
    "- Markdown recognizes basic Latex, $f(x)=x^3$\n",
    "- But not everything. Note how it indicates that it doesn't understand the Latex. \\begin{theorem} This is true. \\end{theorem}\n",
    "\n",
    "Colab is even easier for formatting. There are icons for most of the above commands."
   ]
  },
  {
   "cell_type": "markdown",
   "metadata": {},
   "source": []
  },
  {
   "cell_type": "code",
   "execution_count": null,
   "metadata": {},
   "outputs": [],
   "source": []
  },
  {
   "cell_type": "code",
   "execution_count": null,
   "metadata": {},
   "outputs": [],
   "source": []
  },
  {
   "cell_type": "markdown",
   "metadata": {},
   "source": [
    "# Introduction to Python\n",
    "-    high level language: optimized for reading by people instead of machines.\n",
    "- interpreted language: it is not compiled directly to machine code and usually used in an interactive fashion.\n",
    "- different from Java or C (no compiling before running)\n",
    "- can run code as you go, cell by cell in the Jupyter notebook case\n",
    "- useful for investigations \n",
    "- dynamically typed language, similar to languages like JavaScript. No declarations of variables. Whenever you use a variable, you can define it to be an integer on one line and a string on the next line. \n",
    "- This class will use Python 3. Make sure to have the right version of Python as your kernel."
   ]
  },
  {
   "cell_type": "code",
   "execution_count": null,
   "metadata": {},
   "outputs": [],
   "source": [
    "new_var=5\n",
    "new_var"
   ]
  },
  {
   "cell_type": "code",
   "execution_count": null,
   "metadata": {},
   "outputs": [],
   "source": [
    "new_var=\"This is a string\"\n",
    "new_var"
   ]
  },
  {
   "cell_type": "code",
   "execution_count": 7,
   "metadata": {},
   "outputs": [
    {
     "data": {
      "text/plain": [
       "10"
      ]
     },
     "execution_count": 7,
     "metadata": {},
     "output_type": "execute_result"
    }
   ],
   "source": [
    "x=4\n",
    "y=6\n",
    "x+y"
   ]
  },
  {
   "cell_type": "markdown",
   "metadata": {},
   "source": [
    "Since notebook is an interactive format, the last line of the cell is output. So we don't need a print statement here. "
   ]
  },
  {
   "cell_type": "code",
   "execution_count": 8,
   "metadata": {},
   "outputs": [
    {
     "data": {
      "text/plain": [
       "3"
      ]
     },
     "execution_count": 8,
     "metadata": {},
     "output_type": "execute_result"
    }
   ],
   "source": [
    "x+y\n",
    "x+y-7"
   ]
  },
  {
   "cell_type": "markdown",
   "metadata": {},
   "source": [
    "Note: only the last line is output. If we wanted both, we would need a print statement."
   ]
  },
  {
   "cell_type": "code",
   "execution_count": 9,
   "metadata": {},
   "outputs": [
    {
     "name": "stdout",
     "output_type": "stream",
     "text": [
      "10\n",
      "3\n"
     ]
    }
   ],
   "source": [
    "print(x+y)\n",
    "print(x+y-7)"
   ]
  },
  {
   "cell_type": "markdown",
   "metadata": {},
   "source": [
    "Also note, the cells are stateful, so the value of our variables are preserved between cells.\n",
    "\n",
    "This also means if we want to go back and change something in a previous cell,\n",
    "we have to re-execute the cells to make those changes take place. Or use \n",
    "restart and run all function under Kernel//Runtime.\n",
    "\n",
    "Python doesn't require the use of keywords like var to declare a variable name or\n",
    "semicolons at the end of lines which are commonly used in other languages.\n",
    "Python leverages white space to understand the scope of functions and\n",
    "loops and end of line markers to understand the end of statements. "
   ]
  },
  {
   "cell_type": "code",
   "execution_count": 10,
   "metadata": {},
   "outputs": [
    {
     "name": "stdout",
     "output_type": "stream",
     "text": [
      "0\n",
      "1\n",
      "2\n",
      "3\n",
      "4\n"
     ]
    }
   ],
   "source": [
    "#Simple Loop\n",
    "for i in range(5):\n",
    "    print(i)"
   ]
  },
  {
   "cell_type": "markdown",
   "metadata": {},
   "source": [
    "Note the colon and the required indentation (which the notebook did automatically based on the colon.)"
   ]
  },
  {
   "cell_type": "code",
   "execution_count": 11,
   "metadata": {},
   "outputs": [
    {
     "name": "stdout",
     "output_type": "stream",
     "text": [
      "0\n",
      "1\n",
      "2\n",
      "3\n",
      "4\n"
     ]
    }
   ],
   "source": [
    "#Simple Loop\n",
    "for i in range(5):\n",
    "  print(i)  ##Note the indication that the indentation is not correct."
   ]
  },
  {
   "cell_type": "code",
   "execution_count": 12,
   "metadata": {},
   "outputs": [
    {
     "name": "stdout",
     "output_type": "stream",
     "text": [
      "3\n"
     ]
    }
   ],
   "source": [
    "# if statement\n",
    "for i in range(10):\n",
    "    if i==3:  ##difference between = and ==\n",
    "        print(i)"
   ]
  },
  {
   "cell_type": "markdown",
   "metadata": {},
   "source": [
    "# Python Data Types"
   ]
  },
  {
   "cell_type": "markdown",
   "metadata": {},
   "source": [
    "### Data types for single item\n",
    "- integers\n",
    "- floating point\n",
    "- strings\n",
    "- the none type "
   ]
  },
  {
   "cell_type": "code",
   "execution_count": 13,
   "metadata": {},
   "outputs": [
    {
     "data": {
      "text/plain": [
       "int"
      ]
     },
     "execution_count": 13,
     "metadata": {},
     "output_type": "execute_result"
    }
   ],
   "source": [
    "type(x)"
   ]
  },
  {
   "cell_type": "code",
   "execution_count": 14,
   "metadata": {},
   "outputs": [
    {
     "name": "stdout",
     "output_type": "stream",
     "text": [
      "<class 'int'>\n",
      "<class 'float'>\n",
      "<class 'str'>\n",
      "<class 'NoneType'>\n",
      "<class 'NoneType'>\n",
      "6.2\n",
      "False\n",
      "<class 'str'>\n",
      "6\n"
     ]
    }
   ],
   "source": [
    "num=6.2\n",
    "z=\"Hello\"\n",
    "w=None\n",
    "print(type(x))\n",
    "print(type(num))\n",
    "print(type(z))\n",
    "print(type(w))\n",
    "print(type(w))\n",
    "print(str(num))\n",
    "print(num==str(num))\n",
    "print(type(str(num)))\n",
    "print(int(num))"
   ]
  },
  {
   "cell_type": "markdown",
   "metadata": {},
   "source": [
    "### Data types for multiple items that we will use often\n",
    "- lists\n",
    "- dictionaries\n",
    "    "
   ]
  },
  {
   "cell_type": "markdown",
   "metadata": {},
   "source": [
    "# Lists"
   ]
  },
  {
   "cell_type": "markdown",
   "metadata": {},
   "source": [
    "Lists are mutable, so you can change their length, number of elements, and the element values.  \n",
    "Format square brackets.  \n",
    "Often created with append statements.   "
   ]
  },
  {
   "cell_type": "code",
   "execution_count": 94,
   "metadata": {},
   "outputs": [
    {
     "data": {
      "text/plain": [
       "[1, 2, 3, 'a', 'b', 'c', 4, 5, 6, 7]"
      ]
     },
     "execution_count": 94,
     "metadata": {},
     "output_type": "execute_result"
    }
   ],
   "source": [
    "newlist=[1,2,3,\"a\",\"b\",\"c\"]\n",
    "for i in range(4,8):\n",
    "    newlist.append(i)\n",
    "newlist"
   ]
  },
  {
   "cell_type": "code",
   "execution_count": 95,
   "metadata": {},
   "outputs": [
    {
     "name": "stdout",
     "output_type": "stream",
     "text": [
      "1\n",
      "2\n",
      "3\n",
      "a\n",
      "b\n",
      "c\n",
      "4\n",
      "5\n",
      "6\n",
      "7\n"
     ]
    }
   ],
   "source": [
    "#This is an example of how to loop through each item in the list.\n",
    "for item in newlist:\n",
    "    print(item)"
   ]
  },
  {
   "cell_type": "code",
   "execution_count": 96,
   "metadata": {},
   "outputs": [
    {
     "name": "stdout",
     "output_type": "stream",
     "text": [
      "1\n",
      "2\n",
      "3\n",
      "a\n",
      "b\n",
      "c\n",
      "4\n",
      "5\n",
      "6\n",
      "7\n"
     ]
    }
   ],
   "source": [
    "## Or another way uses index of list\n",
    "## While loop\n",
    "i=0\n",
    "while( i != len(newlist) ):\n",
    "    print(newlist[i])\n",
    "    i = i + 1"
   ]
  },
  {
   "cell_type": "code",
   "execution_count": 97,
   "metadata": {},
   "outputs": [
    {
     "name": "stdout",
     "output_type": "stream",
     "text": [
      "[1, 2, 3, 'a', 'b', 'c', 4, 5, 6, 7]\n"
     ]
    }
   ],
   "source": [
    "print(newlist)"
   ]
  },
  {
   "cell_type": "code",
   "execution_count": 98,
   "metadata": {},
   "outputs": [],
   "source": [
    "#You can change elements in a list\n",
    "newlist[0]=3"
   ]
  },
  {
   "cell_type": "code",
   "execution_count": 99,
   "metadata": {},
   "outputs": [
    {
     "data": {
      "text/plain": [
       "[3, 2, 3, 'a', 'b', 'c', 4, 5, 6, 7]"
      ]
     },
     "execution_count": 99,
     "metadata": {},
     "output_type": "execute_result"
    }
   ],
   "source": [
    "newlist"
   ]
  },
  {
   "cell_type": "code",
   "execution_count": 100,
   "metadata": {},
   "outputs": [],
   "source": [
    "intlist=[1,2,3,4,5,6]"
   ]
  },
  {
   "cell_type": "code",
   "execution_count": 101,
   "metadata": {},
   "outputs": [
    {
     "data": {
      "text/plain": [
       "1"
      ]
     },
     "execution_count": 101,
     "metadata": {},
     "output_type": "execute_result"
    }
   ],
   "source": [
    "min(intlist)"
   ]
  },
  {
   "cell_type": "code",
   "execution_count": 102,
   "metadata": {},
   "outputs": [
    {
     "data": {
      "text/plain": [
       "6"
      ]
     },
     "execution_count": 102,
     "metadata": {},
     "output_type": "execute_result"
    }
   ],
   "source": [
    "max(intlist)"
   ]
  },
  {
   "cell_type": "code",
   "execution_count": 103,
   "metadata": {},
   "outputs": [
    {
     "data": {
      "text/plain": [
       "21"
      ]
     },
     "execution_count": 103,
     "metadata": {},
     "output_type": "execute_result"
    }
   ],
   "source": [
    "sum(intlist)"
   ]
  },
  {
   "cell_type": "code",
   "execution_count": 104,
   "metadata": {},
   "outputs": [
    {
     "data": {
      "text/plain": [
       "6"
      ]
     },
     "execution_count": 104,
     "metadata": {},
     "output_type": "execute_result"
    }
   ],
   "source": [
    "len(intlist)"
   ]
  },
  {
   "cell_type": "code",
   "execution_count": 105,
   "metadata": {},
   "outputs": [
    {
     "data": {
      "text/plain": [
       "[1, 2, 3, 4]"
      ]
     },
     "execution_count": 105,
     "metadata": {},
     "output_type": "execute_result"
    }
   ],
   "source": [
    "#What does this do?\n",
    "[1,2] + [3,4]"
   ]
  },
  {
   "cell_type": "code",
   "execution_count": 106,
   "metadata": {},
   "outputs": [
    {
     "data": {
      "text/plain": [
       "[1, 2, 1, 2, 1, 2]"
      ]
     },
     "execution_count": 106,
     "metadata": {},
     "output_type": "execute_result"
    }
   ],
   "source": [
    "#How about this?\n",
    "[1,2]*3"
   ]
  },
  {
   "cell_type": "code",
   "execution_count": 107,
   "metadata": {},
   "outputs": [
    {
     "data": {
      "text/plain": [
       "False"
      ]
     },
     "execution_count": 107,
     "metadata": {},
     "output_type": "execute_result"
    }
   ],
   "source": [
    "7 in intlist"
   ]
  },
  {
   "cell_type": "code",
   "execution_count": 108,
   "metadata": {},
   "outputs": [
    {
     "data": {
      "text/plain": [
       "True"
      ]
     },
     "execution_count": 108,
     "metadata": {},
     "output_type": "execute_result"
    }
   ],
   "source": [
    "6 in intlist"
   ]
  },
  {
   "cell_type": "markdown",
   "metadata": {},
   "source": [
    "Strings are just lists of characters so same operations work."
   ]
  },
  {
   "cell_type": "code",
   "execution_count": 132,
   "metadata": {},
   "outputs": [
    {
     "data": {
      "text/plain": [
       "'Hello WorldHello World'"
      ]
     },
     "execution_count": 132,
     "metadata": {},
     "output_type": "execute_result"
    }
   ],
   "source": [
    "message=\"Hello World\"\n",
    "message+message"
   ]
  },
  {
   "cell_type": "code",
   "execution_count": 133,
   "metadata": {},
   "outputs": [
    {
     "data": {
      "text/plain": [
       "'Hello World Hello World'"
      ]
     },
     "execution_count": 133,
     "metadata": {},
     "output_type": "execute_result"
    }
   ],
   "source": [
    "message+' '+message"
   ]
  },
  {
   "cell_type": "code",
   "execution_count": 134,
   "metadata": {},
   "outputs": [
    {
     "data": {
      "text/plain": [
       "'Hello WorldHello WorldHello World'"
      ]
     },
     "execution_count": 134,
     "metadata": {},
     "output_type": "execute_result"
    }
   ],
   "source": [
    "message*3"
   ]
  },
  {
   "cell_type": "code",
   "execution_count": 135,
   "metadata": {},
   "outputs": [
    {
     "data": {
      "text/plain": [
       "False"
      ]
     },
     "execution_count": 135,
     "metadata": {},
     "output_type": "execute_result"
    }
   ],
   "source": [
    "'hello' in message"
   ]
  },
  {
   "cell_type": "markdown",
   "metadata": {},
   "source": [
    "# Slicing"
   ]
  },
  {
   "cell_type": "markdown",
   "metadata": {},
   "source": [
    "Slicing is a useful tool with lists."
   ]
  },
  {
   "cell_type": "code",
   "execution_count": 136,
   "metadata": {},
   "outputs": [
    {
     "name": "stdout",
     "output_type": "stream",
     "text": [
      "[1, 2, 3, 4, 5, 6]\n"
     ]
    },
    {
     "data": {
      "text/plain": [
       "[4, 5]"
      ]
     },
     "execution_count": 136,
     "metadata": {},
     "output_type": "execute_result"
    }
   ],
   "source": [
    "print(intlist)\n",
    "intlist[3:5]"
   ]
  },
  {
   "cell_type": "code",
   "execution_count": 137,
   "metadata": {},
   "outputs": [
    {
     "name": "stdout",
     "output_type": "stream",
     "text": [
      "[3, 2, 3, 'a', 'b', 'c', 4, 5, 6, 7]\n"
     ]
    },
    {
     "data": {
      "text/plain": [
       "['a', 'b', 'c', 4, 5]"
      ]
     },
     "execution_count": 137,
     "metadata": {},
     "output_type": "execute_result"
    }
   ],
   "source": [
    "print(newlist)\n",
    "newlist[3:8]"
   ]
  },
  {
   "cell_type": "code",
   "execution_count": 138,
   "metadata": {},
   "outputs": [
    {
     "data": {
      "text/plain": [
       "'Hello'"
      ]
     },
     "execution_count": 138,
     "metadata": {},
     "output_type": "execute_result"
    }
   ],
   "source": [
    "message[:5]"
   ]
  },
  {
   "cell_type": "code",
   "execution_count": 139,
   "metadata": {},
   "outputs": [
    {
     "data": {
      "text/plain": [
       "'World'"
      ]
     },
     "execution_count": 139,
     "metadata": {},
     "output_type": "execute_result"
    }
   ],
   "source": [
    "message[-5:]"
   ]
  },
  {
   "cell_type": "markdown",
   "metadata": {},
   "source": [
    "# Dictionaries\n",
    "\n",
    "Dictionaries are similar to lists and tuples in that they hold a collection of\n",
    "items, but they're labeled collections which do not have an ordering.\n",
    "This means that for each value you insert into the dictionary,\n",
    "you must also give a key to get that value out.\n",
    "In other languages the structure is often called a map.\n",
    "Use curly braces and colons."
   ]
  },
  {
   "cell_type": "code",
   "execution_count": 46,
   "metadata": {},
   "outputs": [],
   "source": [
    "grades={'Alice':95, 'Bob':90, 'Chris':85}"
   ]
  },
  {
   "cell_type": "code",
   "execution_count": 47,
   "metadata": {
    "scrolled": true
   },
   "outputs": [
    {
     "ename": "KeyError",
     "evalue": "0",
     "output_type": "error",
     "traceback": [
      "\u001b[0;31m---------------------------------------------------------------------------\u001b[0m",
      "\u001b[0;31mKeyError\u001b[0m                                  Traceback (most recent call last)",
      "\u001b[0;32m<ipython-input-47-399114c043fc>\u001b[0m in \u001b[0;36m<module>\u001b[0;34m\u001b[0m\n\u001b[1;32m      1\u001b[0m \u001b[0;31m## no ordering\u001b[0m\u001b[0;34m\u001b[0m\u001b[0;34m\u001b[0m\u001b[0;34m\u001b[0m\u001b[0m\n\u001b[1;32m      2\u001b[0m \u001b[0;31m## This will fail.\u001b[0m\u001b[0;34m\u001b[0m\u001b[0;34m\u001b[0m\u001b[0;34m\u001b[0m\u001b[0m\n\u001b[0;32m----> 3\u001b[0;31m \u001b[0mgrades\u001b[0m\u001b[0;34m[\u001b[0m\u001b[0;36m0\u001b[0m\u001b[0;34m]\u001b[0m\u001b[0;34m\u001b[0m\u001b[0;34m\u001b[0m\u001b[0m\n\u001b[0m\u001b[1;32m      4\u001b[0m \u001b[0;31m## Need to use a key.\u001b[0m\u001b[0;34m\u001b[0m\u001b[0;34m\u001b[0m\u001b[0;34m\u001b[0m\u001b[0m\n",
      "\u001b[0;31mKeyError\u001b[0m: 0"
     ]
    }
   ],
   "source": [
    "## no ordering\n",
    "## This will fail.\n",
    "grades[0]\n",
    "## Need to use a key."
   ]
  },
  {
   "cell_type": "code",
   "execution_count": 48,
   "metadata": {},
   "outputs": [
    {
     "data": {
      "text/plain": [
       "dict_keys(['Alice', 'Bob', 'Chris'])"
      ]
     },
     "execution_count": 48,
     "metadata": {},
     "output_type": "execute_result"
    }
   ],
   "source": [
    "grades.keys()"
   ]
  },
  {
   "cell_type": "code",
   "execution_count": 49,
   "metadata": {},
   "outputs": [
    {
     "data": {
      "text/plain": [
       "95"
      ]
     },
     "execution_count": 49,
     "metadata": {},
     "output_type": "execute_result"
    }
   ],
   "source": [
    "grades['Alice']"
   ]
  },
  {
   "cell_type": "code",
   "execution_count": 50,
   "metadata": {},
   "outputs": [
    {
     "data": {
      "text/plain": [
       "dict_values([95, 90, 85])"
      ]
     },
     "execution_count": 50,
     "metadata": {},
     "output_type": "execute_result"
    }
   ],
   "source": [
    "grades.values()"
   ]
  },
  {
   "cell_type": "code",
   "execution_count": null,
   "metadata": {},
   "outputs": [],
   "source": []
  },
  {
   "cell_type": "code",
   "execution_count": 52,
   "metadata": {
    "scrolled": true
   },
   "outputs": [
    {
     "name": "stdout",
     "output_type": "stream",
     "text": [
      "Alice\n",
      "Bob\n",
      "Chris\n"
     ]
    }
   ],
   "source": [
    "for name in grades:\n",
    "    print(name)"
   ]
  },
  {
   "cell_type": "code",
   "execution_count": 53,
   "metadata": {},
   "outputs": [
    {
     "name": "stdout",
     "output_type": "stream",
     "text": [
      "95\n",
      "90\n",
      "85\n"
     ]
    }
   ],
   "source": [
    "for name in grades:\n",
    "    print(grades[name])"
   ]
  },
  {
   "cell_type": "code",
   "execution_count": 54,
   "metadata": {},
   "outputs": [
    {
     "name": "stdout",
     "output_type": "stream",
     "text": [
      "95\n",
      "90\n",
      "85\n"
     ]
    }
   ],
   "source": [
    "for num in grades.values():\n",
    "    print(num)\n",
    "    "
   ]
  },
  {
   "cell_type": "code",
   "execution_count": 140,
   "metadata": {},
   "outputs": [
    {
     "name": "stdout",
     "output_type": "stream",
     "text": [
      "Alice 95\n",
      "Bob 90\n",
      "Chris 85\n"
     ]
    }
   ],
   "source": [
    "for name,num in grades.items():\n",
    "    print(name,num)"
   ]
  },
  {
   "cell_type": "code",
   "execution_count": 292,
   "metadata": {},
   "outputs": [
    {
     "data": {
      "text/plain": [
       "{'Alice': 95, 'Bob': 90, 'Chris': 85, 'Dog': 77}"
      ]
     },
     "execution_count": 292,
     "metadata": {},
     "output_type": "execute_result"
    }
   ],
   "source": [
    "## add to dictionary\n",
    "grades['Dog']=77\n",
    "grades"
   ]
  },
  {
   "cell_type": "code",
   "execution_count": null,
   "metadata": {},
   "outputs": [],
   "source": []
  },
  {
   "cell_type": "markdown",
   "metadata": {},
   "source": [
    "# Python Functions"
   ]
  },
  {
   "cell_type": "markdown",
   "metadata": {},
   "source": [
    "- begin with def\n",
    "- must name the function\n",
    "- specify input variables inside the parenthesis\n",
    "- end with return\n",
    "- may return multiple objects"
   ]
  },
  {
   "cell_type": "code",
   "execution_count": 141,
   "metadata": {},
   "outputs": [],
   "source": [
    "#Example Function\n",
    "def add_numbers(x,y):\n",
    "    ##x and y are variable that must be input when calling the function\n",
    "    return x+y\n",
    "    ## return specifies the output of the function"
   ]
  },
  {
   "cell_type": "code",
   "execution_count": 142,
   "metadata": {},
   "outputs": [
    {
     "data": {
      "text/plain": [
       "9"
      ]
     },
     "execution_count": 142,
     "metadata": {},
     "output_type": "execute_result"
    }
   ],
   "source": [
    "add_numbers(4,5)"
   ]
  },
  {
   "cell_type": "code",
   "execution_count": 148,
   "metadata": {},
   "outputs": [],
   "source": [
    "#add_numbers(4,5,6)"
   ]
  },
  {
   "cell_type": "code",
   "execution_count": null,
   "metadata": {},
   "outputs": [],
   "source": []
  },
  {
   "cell_type": "markdown",
   "metadata": {},
   "source": [
    "# Mini-Functions: Lambda"
   ]
  },
  {
   "cell_type": "markdown",
   "metadata": {},
   "source": [
    "- no name\n",
    "- Simple or short-lived functions.\n",
    "- Define in one line.\n",
    "- no def, or return\n",
    "- can only return a single object"
   ]
  },
  {
   "cell_type": "code",
   "execution_count": 149,
   "metadata": {},
   "outputs": [
    {
     "data": {
      "text/plain": [
       "6"
      ]
     },
     "execution_count": 149,
     "metadata": {},
     "output_type": "execute_result"
    }
   ],
   "source": [
    "def add_one(x):\n",
    "    return x + 1\n",
    "add_one(5)"
   ]
  },
  {
   "cell_type": "code",
   "execution_count": 150,
   "metadata": {},
   "outputs": [
    {
     "data": {
      "text/plain": [
       "6"
      ]
     },
     "execution_count": 150,
     "metadata": {},
     "output_type": "execute_result"
    }
   ],
   "source": [
    "(lambda x: x+1)(5)"
   ]
  },
  {
   "cell_type": "code",
   "execution_count": 151,
   "metadata": {},
   "outputs": [
    {
     "data": {
      "text/plain": [
       "[[0, 7], [4, 1], [2, 5]]"
      ]
     },
     "execution_count": 151,
     "metadata": {},
     "output_type": "execute_result"
    }
   ],
   "source": [
    "z=[ [2,5],[4,1],[0,7]]\n",
    "q=sorted(z, key=lambda x: min(x[0],x[1]))\n",
    "q"
   ]
  },
  {
   "cell_type": "code",
   "execution_count": null,
   "metadata": {},
   "outputs": [],
   "source": []
  },
  {
   "cell_type": "markdown",
   "metadata": {},
   "source": [
    "# List Comprehensions"
   ]
  },
  {
   "cell_type": "markdown",
   "metadata": {},
   "source": [
    "Shorthand for creating lists."
   ]
  },
  {
   "cell_type": "code",
   "execution_count": 152,
   "metadata": {},
   "outputs": [
    {
     "data": {
      "text/plain": [
       "[0, 2, 4, 6, 8]"
      ]
     },
     "execution_count": 152,
     "metadata": {},
     "output_type": "execute_result"
    }
   ],
   "source": [
    "#Create a list of even numbers from 0 to 100 with a for loop\n",
    "my_list1 = []\n",
    "for number in range(0, 10):\n",
    "    if number % 2 == 0:    ##What is this doing?\n",
    "        my_list1.append(number)\n",
    "my_list1"
   ]
  },
  {
   "cell_type": "code",
   "execution_count": 153,
   "metadata": {},
   "outputs": [
    {
     "name": "stdout",
     "output_type": "stream",
     "text": [
      "[0, 2, 4, 6, 8]\n"
     ]
    }
   ],
   "source": [
    "#Create a list of even numbers from 0 to 100 with a list comprehension\n",
    "## simple loop\n",
    "my_list2= [2*num for num in range(5)]\n",
    "print(my_list2)"
   ]
  },
  {
   "cell_type": "code",
   "execution_count": 154,
   "metadata": {},
   "outputs": [
    {
     "data": {
      "text/plain": [
       "[0, 2, 4, 6, 8]"
      ]
     },
     "execution_count": 154,
     "metadata": {},
     "output_type": "execute_result"
    }
   ],
   "source": [
    "## combination of for loop and if statement\n",
    "my_list3 = [number for number in range(0,10) if number % 2 == 0]\n",
    "my_list3"
   ]
  },
  {
   "cell_type": "code",
   "execution_count": 155,
   "metadata": {},
   "outputs": [
    {
     "data": {
      "text/plain": [
       "True"
      ]
     },
     "execution_count": 155,
     "metadata": {},
     "output_type": "execute_result"
    }
   ],
   "source": [
    "my_list1==my_list2"
   ]
  },
  {
   "cell_type": "markdown",
   "metadata": {},
   "source": [
    "Can do multiple loops also!"
   ]
  },
  {
   "cell_type": "code",
   "execution_count": 156,
   "metadata": {},
   "outputs": [
    {
     "data": {
      "text/plain": [
       "[[0, 4],\n",
       " [0, 5],\n",
       " [0, 6],\n",
       " [0, 7],\n",
       " [0, 8],\n",
       " [1, 4],\n",
       " [1, 5],\n",
       " [1, 6],\n",
       " [1, 7],\n",
       " [1, 8],\n",
       " [2, 4],\n",
       " [2, 5],\n",
       " [2, 6],\n",
       " [2, 7],\n",
       " [2, 8]]"
      ]
     },
     "execution_count": 156,
     "metadata": {},
     "output_type": "execute_result"
    }
   ],
   "source": [
    "my_list= [ [i,j] for i in range(3) for j in range(4,9)]\n",
    "my_list"
   ]
  },
  {
   "cell_type": "code",
   "execution_count": null,
   "metadata": {},
   "outputs": [],
   "source": []
  },
  {
   "cell_type": "markdown",
   "metadata": {},
   "source": [
    "# Numpy and Matrix Operations\n",
    "\n",
    "NumPy is a Python package. It stands for 'Numerical Python'. It is a library consisting of multidimensional array objects and a collection of routines for processing of array."
   ]
  },
  {
   "cell_type": "code",
   "execution_count": 199,
   "metadata": {},
   "outputs": [],
   "source": [
    "## A first package\n",
    "import numpy as np"
   ]
  },
  {
   "cell_type": "markdown",
   "metadata": {},
   "source": [
    "# Scalars\n",
    "\n",
    "Theses are just single numbers denoted by lower case constants. In this course we mostly assume real numbers\n",
    "\n",
    "$$ a, b, c, d \\in \\mathbb{R} $$"
   ]
  },
  {
   "cell_type": "markdown",
   "metadata": {},
   "source": [
    "## Vectors\n",
    "\n",
    "Vectors are 1-D arrays of scalars denoted by bold face lowercase letters. We might think\n",
    "of vectors in either column or row form.\n",
    "\n",
    "$$ \\mathbf{x} = \\left[\\begin{array}{@{}c@{}}\n",
    "    a \\\\\n",
    "    b \\\\\n",
    "    c \n",
    "    \\end{array} \\right] $$\n",
    "    \n",
    "$$ \\mathbf{x} = \\left[a,b,c \\right] $$\n",
    "    \n",
    "Vectors are objects in  $n$-dimensional space. In this example,\n",
    "\n",
    "$$ \\mathbf{x} \\in \\mathbb{R}^3 $$"
   ]
  },
  {
   "cell_type": "markdown",
   "metadata": {},
   "source": [
    "## Matrix\n",
    "\n",
    "A matrix is a 2-D array of numbers denoted by bold face uppercase letters\n",
    "\n",
    "$$ \\mathbf{A} = \\left[\\begin{array}{@{}c,c@{}}\n",
    "    a & b \\\\\n",
    "    c & d \\\\\n",
    "    \\end{array} \\right] $$\n",
    "\n",
    "$$ \\mathbf{B} = \\left[\\begin{array}{@{}c,c@{}}\n",
    "    a & b \\\\\n",
    "    c & d \\\\\n",
    "    e & f \n",
    "    \\end{array} \\right] $$\n",
    "    \n",
    "Matrices live in $m \\times n$-dimensional space where $m$ is the number of rows and $n$ is the number of columns. Matrices represent linear transformations from $\\mathbb{R}^n$ to $\\mathbb{R}^m$.\n",
    "\n",
    "\n",
    "\n",
    "$$ \\mathbf{A} \\in \\mathbb{R}^{2\\times 2} \\text{ and } \\mathbf{b} \\in \\mathbb{R}^{3\\times 2} $$\n"
   ]
  },
  {
   "cell_type": "markdown",
   "metadata": {},
   "source": [
    "# Numpy Objects\n",
    "- 1D arrays (like row vectors)\n",
    "- 2D arrays (like matrices)\n",
    "- tensors (higher dimensional arrays)"
   ]
  },
  {
   "cell_type": "code",
   "execution_count": 226,
   "metadata": {},
   "outputs": [
    {
     "name": "stdout",
     "output_type": "stream",
     "text": [
      "Row vector:\n",
      " [3 6 7 2] \n",
      "Shape\n",
      " (4,)\n"
     ]
    }
   ],
   "source": [
    "## 1D arrays in numpy\n",
    "## Note parentheses and single square brackets\n",
    "row_vec = np.array([3, 6, 7, 2])\n",
    "print(\"Row vector:\\n\", row_vec,\"\\nShape\\n\", row_vec.shape)\n",
    "## Note that the shape only has one dimension. "
   ]
  },
  {
   "cell_type": "code",
   "execution_count": 322,
   "metadata": {},
   "outputs": [
    {
     "name": "stdout",
     "output_type": "stream",
     "text": [
      "The shape of [0.  0.4 0.8 1.2 1.6 2. ] is (6,)\n",
      "The shape of [0.   0.25 0.5  0.75 1.   1.25 1.5  1.75] is (8,)\n"
     ]
    }
   ],
   "source": [
    "## Some useful ways to create 1D arrays.\n",
    "z = np.linspace(0, 2, 6)\n",
    "print(\"The shape of {} is {}\".format(z,z.shape))\n",
    "x= np.arange(0,2,.25)\n",
    "print(\"The shape of {} is {}\".format(x,x.shape))"
   ]
  },
  {
   "cell_type": "code",
   "execution_count": 311,
   "metadata": {},
   "outputs": [
    {
     "name": "stdout",
     "output_type": "stream",
     "text": [
      "The type of [0, 2, 4, 6, 8] is <class 'list'>.\n",
      "The type of [0 2 4 6 8] is <class 'numpy.ndarray'>.\n",
      "[0 2 4 6 8]\n",
      "[0, 2, 4, 6, 8]\n"
     ]
    }
   ],
   "source": [
    "## Note that numpy 1D arrays are similar to, but different, from lists.\n",
    "j_list=[2*i for i in range(5)]\n",
    "j_array=np.arange(0,10,2)\n",
    "print(\"The type of {} is {}.\".format(j_list,type(j_list)))\n",
    "print(\"The type of {} is {}.\".format(j_array,type(j_array)))\n",
    "\n",
    "## visually you can see the difference with the commas.\n",
    "##We can convert from lists to arrays.\n",
    "print(np.array(j_list))\n",
    "## and from arrays to lists. \n",
    "print(list(j_array))"
   ]
  },
  {
   "cell_type": "code",
   "execution_count": 312,
   "metadata": {},
   "outputs": [
    {
     "name": "stdout",
     "output_type": "stream",
     "text": [
      "[0 2 4 6 8]\n",
      "4\n"
     ]
    }
   ],
   "source": [
    "## access single elements by index\n",
    "print(j_array)\n",
    "print(j_array[2])"
   ]
  },
  {
   "cell_type": "code",
   "execution_count": 238,
   "metadata": {},
   "outputs": [
    {
     "name": "stdout",
     "output_type": "stream",
     "text": [
      "Matrix 1:\n",
      " [[3 6 7 2]\n",
      " [1 2 3 4]] \n",
      "Shape\n",
      " (2, 4)\n",
      "\n",
      "Matrix 2:\n",
      " [[3 6 7 2]] \n",
      "Shape\n",
      " (1, 4)\n",
      "\n",
      "Matrix 3:\n",
      " [[3]\n",
      " [6]\n",
      " [7]\n",
      " [2]] \n",
      "Shape\n",
      " (4, 1)\n",
      "\n",
      "NOTE! 1D objects and 2D objects are very different. Be careful! \n",
      " [[3 6 7 2]] != [3 6 7 2]\n",
      "(1, 4) != (4,)\n"
     ]
    }
   ],
   "source": [
    "## Creating 2D arrays in Numpy.\n",
    "## These correspond to matrices.\n",
    "## NOTE the parentheses and double square brackets\n",
    "\n",
    "MAT = np.array([[3,6,7,2],[1,2,3,4]])\n",
    "print(\"Matrix 1:\\n\", MAT,\"\\nShape\\n\", MAT.shape)\n",
    "\n",
    "MAT2=np.array([[3, 6, 7, 2]])\n",
    "print(\"\\nMatrix 2:\\n\", MAT2,\"\\nShape\\n\", MAT2.shape)\n",
    "\n",
    "MAT3=np.array([[3],[6],[7],[2]])\n",
    "print(\"\\nMatrix 3:\\n\", MAT3,\"\\nShape\\n\", MAT3.shape)\n",
    "\n",
    "print(\"\\nNOTE! 1D objects and 2D objects are very different. Be careful! \\n\", MAT2,\"!=\", row_vec )\n",
    "print(MAT2.shape,\"!=\",row_vec.shape)"
   ]
  },
  {
   "cell_type": "markdown",
   "metadata": {},
   "source": [
    "## Selecting Elements in a Matrix\n",
    "\n"
   ]
  },
  {
   "cell_type": "code",
   "execution_count": 324,
   "metadata": {},
   "outputs": [
    {
     "name": "stdout",
     "output_type": "stream",
     "text": [
      "[[3 5 7 9]\n",
      " [1 2 3 4]]\n",
      "identifying an element\n",
      "4\n",
      "identifying a row\n",
      "[1 2 3 4]\n",
      "identifying a column\n",
      "[7 3]\n"
     ]
    }
   ],
   "source": [
    "## Single elements require specifying two components\n",
    "print(MAT)\n",
    "print(\"identifying an element\")\n",
    "print(MAT[1,3])\n",
    "## identify a row\n",
    "print(\"identifying a row\")\n",
    "print(MAT[1])\n",
    "## identify a column\n",
    "print(\"identifying a column\")\n",
    "print(MAT[:,2])\n",
    "##Remember we index from zero!"
   ]
  },
  {
   "cell_type": "code",
   "execution_count": 249,
   "metadata": {},
   "outputs": [
    {
     "data": {
      "text/plain": [
       "array([[ 3,  5,  7,  9],\n",
       "       [ 1,  2,  3,  4],\n",
       "       [10,  7,  4,  1]])"
      ]
     },
     "execution_count": 249,
     "metadata": {},
     "output_type": "execute_result"
    }
   ],
   "source": [
    "MAT4 = np.array([np.arange(3,10,2),np.arange(1,5,1),np.arange(10,0,-3)])\n",
    "MAT4"
   ]
  },
  {
   "cell_type": "code",
   "execution_count": 341,
   "metadata": {},
   "outputs": [
    {
     "data": {
      "text/plain": [
       "array([[5, 7],\n",
       "       [2, 3]])"
      ]
     },
     "execution_count": 341,
     "metadata": {},
     "output_type": "execute_result"
    }
   ],
   "source": [
    "## Creating a submatrix\n",
    "M5=MAT4[0:2,1:3]\n",
    "M5"
   ]
  },
  {
   "cell_type": "code",
   "execution_count": 255,
   "metadata": {},
   "outputs": [
    {
     "data": {
      "text/plain": [
       "(2, 2)"
      ]
     },
     "execution_count": 255,
     "metadata": {},
     "output_type": "execute_result"
    }
   ],
   "source": [
    "M5.shape"
   ]
  },
  {
   "cell_type": "code",
   "execution_count": 256,
   "metadata": {},
   "outputs": [
    {
     "data": {
      "text/plain": [
       "4"
      ]
     },
     "execution_count": 256,
     "metadata": {},
     "output_type": "execute_result"
    }
   ],
   "source": [
    "M5.size"
   ]
  },
  {
   "cell_type": "code",
   "execution_count": null,
   "metadata": {},
   "outputs": [],
   "source": []
  },
  {
   "cell_type": "code",
   "execution_count": 420,
   "metadata": {},
   "outputs": [
    {
     "name": "stdout",
     "output_type": "stream",
     "text": [
      "[[ 3  5  7  9]\n",
      " [ 1  2  3  4]\n",
      " [10  7  4  1]]\n",
      "10\n",
      "[10  7  7  9]\n",
      "[ 9  4 10]\n"
     ]
    }
   ],
   "source": [
    "## 2D arrays have an axis feature\n",
    "## axis=0 performs column-wise operations\n",
    "## axis=1 performs row-wise operations\n",
    "print(MAT4)\n",
    "print(np.max(MAT4))\n",
    "print(np.max(MAT4,axis=0)) ##max for each column\n",
    "print(np.max(MAT4, axis=1)) ##max for each row"
   ]
  },
  {
   "cell_type": "markdown",
   "metadata": {},
   "source": []
  },
  {
   "cell_type": "markdown",
   "metadata": {},
   "source": [
    "<h3> Transpose </h3>"
   ]
  },
  {
   "cell_type": "code",
   "execution_count": 268,
   "metadata": {},
   "outputs": [
    {
     "name": "stdout",
     "output_type": "stream",
     "text": [
      "[[ 3  1 10]\n",
      " [ 5  2  7]\n",
      " [ 7  3  4]\n",
      " [ 9  4  1]]\n"
     ]
    }
   ],
   "source": [
    "# Matrix transpose - exchanges the rows and columns\n",
    "print(MAT4.T)"
   ]
  },
  {
   "cell_type": "markdown",
   "metadata": {},
   "source": [
    "# Addition\n",
    "\n",
    "- In linear algebra, adding matrices only applies to matrices of the same shape.\n",
    "- but numpy will broadcast to matrices of different shapes if possible.\n",
    "- element-wise operation"
   ]
  },
  {
   "cell_type": "code",
   "execution_count": 331,
   "metadata": {},
   "outputs": [
    {
     "name": "stdout",
     "output_type": "stream",
     "text": [
      "[[3 5 7 9]\n",
      " [1 2 3 4]]\n",
      "[[ 0  2  4  6]\n",
      " [-2 -1  0  1]]\n",
      "[[ 0  2  4  6]\n",
      " [-2 -1  0  1]]\n"
     ]
    }
   ],
   "source": [
    "## broadcasting\n",
    "## numpy is efficient at broadcasting to all components\n",
    "print(MAT)\n",
    "print(MAT-3)\n",
    "## Note this doesn't work for lists.\n",
    "#print(j_list)\n",
    "#print(j_list+5)\n",
    "print(np.subtract(MAT,3))"
   ]
  },
  {
   "cell_type": "code",
   "execution_count": 330,
   "metadata": {},
   "outputs": [
    {
     "name": "stdout",
     "output_type": "stream",
     "text": [
      "[[ 6 10 14 18]\n",
      " [ 2  4  6  8]]\n",
      "[[ 6 10 14 18]\n",
      " [ 2  4  6  8]]\n"
     ]
    }
   ],
   "source": [
    "## Adding matrices of the same shape\n",
    "print(MAT+MAT)\n",
    "print(np.add(MAT,MAT))\n",
    "#print(MAT+MAT4)\n",
    "\n",
    "#  The arrays to be added. If ``x1.shape != x2.shape``, they must be broadcastable to a common shape (which becomes the shape of the output)."
   ]
  },
  {
   "cell_type": "code",
   "execution_count": 337,
   "metadata": {},
   "outputs": [
    {
     "name": "stdout",
     "output_type": "stream",
     "text": [
      "matrix 1 \n",
      " [[3 5 7 9]\n",
      " [1 2 3 4]]\n",
      "matrix 2 \n",
      " [[3 6 7 2]]\n",
      "sum \n",
      " [[ 6 11 14 11]\n",
      " [ 4  8 10  6]]\n"
     ]
    }
   ],
   "source": [
    "## Adding matrices with different shapes\n",
    "## will broadcast if dimensions are compatible\n",
    "print(\"matrix 1 \\n\", MAT)\n",
    "print(\"matrix 2 \\n\", MAT2)\n",
    "print(\"sum \\n\",MAT+MAT2)"
   ]
  },
  {
   "cell_type": "code",
   "execution_count": 380,
   "metadata": {},
   "outputs": [
    {
     "name": "stdout",
     "output_type": "stream",
     "text": [
      "matrix 1 \n",
      " [[3 5 7 9]\n",
      " [1 2 3 4]]\n",
      "matrix 3 \n",
      " [[3]\n",
      " [6]\n",
      " [7]\n",
      " [2]]\n"
     ]
    }
   ],
   "source": [
    "## Adding matrices with different shapes\n",
    "## will broadcast if dimensions are compatible\n",
    "print(\"matrix 1 \\n\", MAT)\n",
    "print(\"matrix 3 \\n\", MAT3)\n",
    "#print(\"sum \\n\",MAT+MAT3)"
   ]
  },
  {
   "cell_type": "markdown",
   "metadata": {},
   "source": [
    "When operating on two arrays, NumPy compares their shapes element-wise. It starts with the trailing dimensions and works its way forward. Two dimensions are compatible when\n",
    "\n",
    "1. they are equal, or\n",
    "1. one of them is 1"
   ]
  },
  {
   "cell_type": "markdown",
   "metadata": {},
   "source": [
    "# Multiplication\n",
    "\n",
    "- In linear algebra, scaler multiplication and matrix multiplication \n",
    "- For matrix multiplication A*B only works if A is an $n \\times m$ matrix and B is an $m \\times r$ matrix. It will produce an $n \\times r$ matrix.\n",
    "$$  \\left[\\begin{array}{@{}c,c@{}}\n",
    "    a & b \\\\\n",
    "    c & d \\\\\n",
    "    e & f \n",
    "    \\end{array} \\right] * \\left[\\begin{array}{@{}c}\n",
    "    g  \\\\\n",
    "    h  \\\\\n",
    "    \\end{array} \\right] =  \n",
    "    \\left[\\begin{array}{@{}c}\n",
    "    ag+bh  \\\\\n",
    "    cg+dh  \\\\\n",
    "    eg+fh  \\\\\n",
    "    \\end{array} \\right]$$\n",
    "- numpy has scaler multiplication, matrix multiplication, element-wise multiplication, and  broadcasting. \n",
    "- mp.matmul(A,B) for matrix multiplication. This is not the same as A*B."
   ]
  },
  {
   "cell_type": "code",
   "execution_count": 381,
   "metadata": {},
   "outputs": [
    {
     "name": "stdout",
     "output_type": "stream",
     "text": [
      "[[3 5 7 9]\n",
      " [1 2 3 4]]\n",
      "[[ 9 15 21 27]\n",
      " [ 3  6  9 12]]\n",
      "[[ 9 25 49 81]\n",
      " [ 1  4  9 16]]\n",
      "[[3 6 7 2]]\n",
      "[[ 9 30 49 18]\n",
      " [ 3 12 21  8]]\n"
     ]
    }
   ],
   "source": [
    "#Hadmard Product - Element Wise\n",
    "print(MAT)\n",
    "##scaler multiplcation\n",
    "print(MAT*3)\n",
    "## Hadmard Product - Element Wise\n",
    "print(MAT*MAT)\n",
    "## broadcasting\n",
    "print(MAT2)\n",
    "print(MAT*MAT2)"
   ]
  },
  {
   "cell_type": "code",
   "execution_count": 383,
   "metadata": {},
   "outputs": [
    {
     "name": "stdout",
     "output_type": "stream",
     "text": [
      "(2, 4)\n",
      "(1, 4)\n"
     ]
    }
   ],
   "source": [
    "# Matrix Multiplication\n",
    "print(MAT.shape)\n",
    "print(MAT2.shape)\n",
    "#print(np.matmul(MAT,MAT2))"
   ]
  },
  {
   "cell_type": "code",
   "execution_count": 354,
   "metadata": {},
   "outputs": [
    {
     "name": "stdout",
     "output_type": "stream",
     "text": [
      "(2, 4)\n",
      "(4, 1)\n",
      "[[106]\n",
      " [ 44]]\n"
     ]
    }
   ],
   "source": [
    "print(MAT.shape)\n",
    "print(MAT2.T.shape)\n",
    "print(np.matmul(MAT,MAT2.T))"
   ]
  },
  {
   "cell_type": "markdown",
   "metadata": {},
   "source": [
    "# Dot Product\n",
    "\n",
    "- In linear algebra, dot products are for two vectors and produce a scaler\n",
    "$$ [a,b,c] \\cdot [e,f,g]=ae+bf+cg $$\n",
    "- numpy has np.dot(A,B)\n",
    "- if A,B are 1D arrays this will be the vector dot product\n",
    "- if A,B are 2D matrices this will be matrix multiplication (same as np.matmul())\n",
    "- if A is 2D matrix and B is 1D array then it will broadcast dot product over corresponding axes"
   ]
  },
  {
   "cell_type": "code",
   "execution_count": 398,
   "metadata": {},
   "outputs": [
    {
     "name": "stdout",
     "output_type": "stream",
     "text": [
      "for 1D arrays:\n",
      "For [0 2 4 6 8] np.dot(j_array,j_array) is 120\n",
      "\n",
      "for matrices:\n",
      "For \n",
      "[[3 5 7 9]\n",
      " [1 2 3 4]] and \n",
      "[[3]\n",
      " [6]\n",
      " [7]\n",
      " [2]]\n",
      " np.dot(MAT,MAT2.T) is\n",
      " [[106]\n",
      " [ 44]]\n",
      "\n",
      "for matrices and 1D arrays:\n",
      "[[3 5 7 9]\n",
      " [1 2 3 4]]\n",
      "[0 2 4 6]\n",
      "[92 40]\n"
     ]
    }
   ],
   "source": [
    "# Vector dot products\n",
    "## For 1D arrays, it corresponds to vector dot product\n",
    "print(\"for 1D arrays:\")\n",
    "print(\"For {} np.dot(j_array,j_array) is {}\".format(j_array,np.dot(j_array,j_array)))\n",
    "\n",
    "## For matrices of appropriate sizes, it is the same as matmul.\n",
    "print(\"\\nfor matrices:\")\n",
    "print(\"For \\n{} and \\n{}\\n np.dot(MAT,MAT2.T) is\\n {}\".format(MAT,MAT2.T, np.dot(MAT,MAT2.T)))\n",
    "\n",
    "## It will also broadcast\n",
    "print(\"\\nfor matrices and 1D arrays:\")\n",
    "print(MAT)\n",
    "print(j_array[0:4])\n",
    "print(np.dot(MAT,j_array[0:4]))"
   ]
  },
  {
   "cell_type": "code",
   "execution_count": 376,
   "metadata": {},
   "outputs": [
    {
     "data": {
      "text/plain": [
       "92"
      ]
     },
     "execution_count": 376,
     "metadata": {},
     "output_type": "execute_result"
    }
   ],
   "source": [
    "3*0+2*5+4*7+6*9"
   ]
  },
  {
   "cell_type": "markdown",
   "metadata": {},
   "source": [
    "<h3> Reshape </h3>"
   ]
  },
  {
   "cell_type": "code",
   "execution_count": 416,
   "metadata": {},
   "outputs": [
    {
     "name": "stdout",
     "output_type": "stream",
     "text": [
      "[[3 5 7 9]\n",
      " [1 2 3 4]]\n",
      "[0 2 4 6]\n",
      "[92 40] has shape (2,)\n",
      "[[92]\n",
      " [40]] has shape (2, 1)\n",
      "[[3]\n",
      " [5]\n",
      " [7]\n",
      " [9]\n",
      " [1]\n",
      " [2]\n",
      " [3]\n",
      " [4]]\n",
      "[[3 5]\n",
      " [7 9]\n",
      " [1 2]\n",
      " [3 4]]\n",
      "[[3 5]\n",
      " [7 9]\n",
      " [1 2]\n",
      " [3 4]]\n",
      "[[0 1 2]\n",
      " [3 4 5]\n",
      " [6 7 8]]\n"
     ]
    }
   ],
   "source": [
    "# Sometimes we need to reshape our data so that operations work properly\n",
    "\n",
    "print(MAT)\n",
    "k=j_array[0:4]\n",
    "print(k)\n",
    "\n",
    "mult1=np.matmul(MAT,k)\n",
    "print(\"{} has shape {}\".format(mult1,mult1.shape))\n",
    "\n",
    "k=k.reshape(4,1)\n",
    "mult2=np.matmul(MAT,k)\n",
    "print(\"{} has shape {}\".format(mult2,mult2.shape))\n",
    "\n",
    "# Reshape this so that it is a column vector\n",
    "print(MAT.reshape(MAT.size,1))\n",
    "\n",
    "print(MAT.reshape(4,2))\n",
    "# Or we could do it this way\n",
    "print(MAT.reshape(-1,2)) # the -1 says to use an many rows as needed\n",
    "\n",
    "newmat=(np.arange(0,9,1).reshape(3,3))\n",
    "print(newmat)"
   ]
  },
  {
   "cell_type": "code",
   "execution_count": null,
   "metadata": {
    "scrolled": true
   },
   "outputs": [],
   "source": []
  },
  {
   "cell_type": "code",
   "execution_count": null,
   "metadata": {},
   "outputs": [],
   "source": []
  },
  {
   "cell_type": "code",
   "execution_count": null,
   "metadata": {},
   "outputs": [],
   "source": []
  },
  {
   "cell_type": "code",
   "execution_count": null,
   "metadata": {},
   "outputs": [],
   "source": []
  },
  {
   "cell_type": "code",
   "execution_count": null,
   "metadata": {},
   "outputs": [],
   "source": []
  }
 ],
 "metadata": {
  "kernelspec": {
   "display_name": "Python 3",
   "language": "python",
   "name": "python3"
  },
  "language_info": {
   "codemirror_mode": {
    "name": "ipython",
    "version": 3
   },
   "file_extension": ".py",
   "mimetype": "text/x-python",
   "name": "python",
   "nbconvert_exporter": "python",
   "pygments_lexer": "ipython3",
   "version": "3.8.5"
  }
 },
 "nbformat": 4,
 "nbformat_minor": 4
}
